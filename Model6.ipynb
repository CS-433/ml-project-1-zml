{
 "cells": [
  {
   "cell_type": "code",
   "execution_count": 1,
   "id": "8908603c",
   "metadata": {},
   "outputs": [],
   "source": [
    "import preprocessing\n",
    "import utils\n",
    "import implementations\n",
    "import helpers\n",
    "\n",
    "import numpy as np"
   ]
  },
  {
   "cell_type": "code",
   "execution_count": 2,
   "id": "07501743",
   "metadata": {},
   "outputs": [],
   "source": [
    "y_tr, x_tr, _ = helpers.load_csv_data(path=\"resources/train.csv\")"
   ]
  },
  {
   "cell_type": "code",
   "execution_count": 3,
   "id": "f45e01cd",
   "metadata": {},
   "outputs": [],
   "source": [
    "#y[np.where(y_tr == -1)] = 0"
   ]
  },
  {
   "cell_type": "code",
   "execution_count": 4,
   "id": "4de29699",
   "metadata": {},
   "outputs": [],
   "source": [
    "y_val, x_val, ids = helpers.load_csv_data(path=\"resources/test.csv\")"
   ]
  },
  {
   "cell_type": "code",
   "execution_count": 5,
   "id": "091dd385",
   "metadata": {},
   "outputs": [],
   "source": [
    "#y_val[np.where(y_val == -1)] = 0"
   ]
  },
  {
   "cell_type": "code",
   "execution_count": 6,
   "id": "ad67ddab",
   "metadata": {},
   "outputs": [],
   "source": [
    "#x_tr, x_val, y_tr, y_val = utils.split_data(X, y, 0.8)"
   ]
  },
  {
   "cell_type": "code",
   "execution_count": 7,
   "id": "fb6cbf7e",
   "metadata": {},
   "outputs": [],
   "source": [
    "traning_groups = preprocessing.group_by_categories(x_tr, column=22)\n",
    "validation_groups = preprocessing.group_by_categories(x_val, column=22)"
   ]
  },
  {
   "cell_type": "code",
   "execution_count": 8,
   "id": "9d7e4887",
   "metadata": {},
   "outputs": [],
   "source": [
    "x_tr = np.delete(x_tr, 22, axis=1)\n",
    "x_val = np.delete(x_val, 22, axis=1)\n",
    "\n",
    "# drop mass estimation, we can try to just make it binary\n",
    "x_tr = np.delete(x_tr, 0, axis=1)\n",
    "x_val = np.delete(x_val, 0, axis=1)"
   ]
  },
  {
   "cell_type": "code",
   "execution_count": 9,
   "id": "29332ab7",
   "metadata": {},
   "outputs": [
    {
     "data": {
      "text/plain": [
       "(250000, 28)"
      ]
     },
     "execution_count": 9,
     "metadata": {},
     "output_type": "execute_result"
    }
   ],
   "source": [
    "x_tr.shape"
   ]
  },
  {
   "cell_type": "code",
   "execution_count": 10,
   "id": "93237031",
   "metadata": {},
   "outputs": [
    {
     "name": "stdout",
     "output_type": "stream",
     "text": [
      "Category 0\n",
      "------------------------------\n",
      "******************************\n",
      "Category 1\n",
      "------------------------------\n",
      "******************************\n",
      "Category 2\n",
      "------------------------------\n",
      "******************************\n",
      "Category 3\n",
      "------------------------------\n",
      "******************************\n"
     ]
    }
   ],
   "source": [
    "total_correct = 0\n",
    "for i, (traning_group_idx, validation_group_idx) in enumerate(zip(traning_groups, validation_groups)):\n",
    "    print('Category', i)\n",
    "    print('-' * 30)\n",
    "\n",
    "    x_tr_i, y_tr_i = x_tr[traning_group_idx], y_tr[traning_group_idx]\n",
    "    x_val_i, _ = x_val[validation_group_idx], y_val[validation_group_idx]\n",
    "    \n",
    "    x_tr_i, x_val_i = preprocessing.preprocess_data(x_tr_i, x_val_i)\n",
    "    x_tr_i = preprocessing.build_poly_coupling(x_tr_i, 12)\n",
    "    x_val_i = preprocessing.build_poly_coupling(x_val_i, 12)\n",
    "    '''weights, _ = implementations.reg_logistic_regression(\n",
    "        y_tr_i, x_tr_i, 0, np.zeros(x_tr_i.shape[1]), max_iters=10000, gamma=0.2)'''\n",
    "    weights, _ = implementations.least_squares(y_tr_i, x_tr_i)\n",
    "\n",
    "    y_pred = np.array([-1 if x.T @ weights < 0 else 1  for x in x_val_i])\n",
    "    #correct_predict = (y_pred == y_val_i).sum()\n",
    "    #print(\"Group precision\", correct_predict / len(y_val_i))\n",
    "\n",
    "    #total_correct += correct_predict\n",
    "    y_val[validation_group_idx] = y_pred\n",
    "    print('*' * 30)\n",
    "\n",
    "#print(\"Validation accuracy\", total_correct / len(y_val))"
   ]
  },
  {
   "cell_type": "code",
   "execution_count": 11,
   "id": "53c968af",
   "metadata": {},
   "outputs": [
    {
     "data": {
      "text/plain": [
       "0.33502511271685453"
      ]
     },
     "execution_count": 11,
     "metadata": {},
     "output_type": "execute_result"
    }
   ],
   "source": [
    "(y_val == 1).sum() / len(y_val)"
   ]
  },
  {
   "cell_type": "code",
   "execution_count": 12,
   "id": "3c542d72",
   "metadata": {},
   "outputs": [
    {
     "name": "stdout",
     "output_type": "stream",
     "text": [
      "[-1. -1. -1. ...  1. -1. -1.]\n"
     ]
    }
   ],
   "source": [
    "y_val[np.where(y_val == 0)] = -1\n",
    "print(y_val)"
   ]
  },
  {
   "cell_type": "code",
   "execution_count": 13,
   "id": "2dc58a8d",
   "metadata": {},
   "outputs": [],
   "source": [
    "helpers.create_csv_submission(ids, y_val, \"lm1.csv\")"
   ]
  },
  {
   "cell_type": "code",
   "execution_count": null,
   "id": "cdab03ed",
   "metadata": {},
   "outputs": [],
   "source": []
  }
 ],
 "metadata": {
  "kernelspec": {
   "display_name": "Python 3 (ipykernel)",
   "language": "python",
   "name": "python3"
  },
  "language_info": {
   "codemirror_mode": {
    "name": "ipython",
    "version": 3
   },
   "file_extension": ".py",
   "mimetype": "text/x-python",
   "name": "python",
   "nbconvert_exporter": "python",
   "pygments_lexer": "ipython3",
   "version": "3.7.12"
  }
 },
 "nbformat": 4,
 "nbformat_minor": 5
}
