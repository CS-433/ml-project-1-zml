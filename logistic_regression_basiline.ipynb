{
 "cells": [
  {
   "cell_type": "code",
   "execution_count": 1,
   "metadata": {
    "pycharm": {
     "name": "#%%\n"
    }
   },
   "outputs": [],
   "source": [
    "%matplotlib inline\n",
    "\n",
    "from feature_filling import *\n",
    "from implementations import *\n",
    "from helpers import *\n",
    "from utils import *\n",
    "\n",
    "import numpy as np\n",
    "import matplotlib.pyplot as plt\n",
    "from sklearn.linear_model import LogisticRegression\n",
    "%load_ext autoreload\n",
    "%autoreload 2"
   ]
  },
  {
   "cell_type": "markdown",
   "metadata": {
    "pycharm": {
     "name": "#%% md\n"
    }
   },
   "source": [
    "## Load data"
   ]
  },
  {
   "cell_type": "code",
   "execution_count": 2,
   "metadata": {
    "pycharm": {
     "name": "#%%\n"
    }
   },
   "outputs": [
    {
     "name": "stdout",
     "output_type": "stream",
     "text": [
      "Input data shape (250000, 30)\n",
      "Labels data shape (250000,)\n"
     ]
    }
   ],
   "source": [
    "y, X, ids = load_csv_data(path=\"train.csv\")\n",
    "\n",
    "print(\"Input data shape\", X.shape)\n",
    "print(\"Labels data shape\", y.shape)"
   ]
  },
  {
   "cell_type": "code",
   "execution_count": 3,
   "metadata": {
    "pycharm": {
     "name": "#%%\n"
    }
   },
   "outputs": [
    {
     "data": {
      "text/plain": "array([1., 0., 0., ..., 1., 0., 0.])"
     },
     "execution_count": 3,
     "metadata": {},
     "output_type": "execute_result"
    }
   ],
   "source": [
    "y[np.where(y == -1)] = 0\n",
    "y"
   ]
  },
  {
   "cell_type": "code",
   "execution_count": 4,
   "outputs": [
    {
     "data": {
      "text/plain": "array([[138.47 ,  51.655,  97.827, ...,   1.24 ,  -2.475, 113.497],\n       [160.937,  68.768, 103.235, ...,   0.   ,   0.   ,  46.226],\n       [  0.   , 162.172, 125.953, ...,   0.   ,   0.   ,  44.251],\n       ...,\n       [105.457,  60.526,  75.839, ...,   0.   ,   0.   ,  41.992],\n       [ 94.951,  19.362,  68.812, ...,   0.   ,   0.   ,   0.   ],\n       [  0.   ,  72.756,  70.831, ...,   0.   ,   0.   ,   0.   ]])"
     },
     "execution_count": 4,
     "metadata": {},
     "output_type": "execute_result"
    }
   ],
   "source": [
    "X[np.where(X == -999)] = 0\n",
    "X"
   ],
   "metadata": {
    "collapsed": false,
    "pycharm": {
     "name": "#%%\n"
    }
   }
  },
  {
   "cell_type": "code",
   "execution_count": 5,
   "metadata": {
    "pycharm": {
     "name": "#%%\n"
    }
   },
   "outputs": [
    {
     "name": "stdout",
     "output_type": "stream",
     "text": [
      "Training data shapes (200000, 30) (200000,)\n",
      "Validation data shapes (50000, 30) (50000,)\n"
     ]
    }
   ],
   "source": [
    "x_tr, x_val, y_tr, y_val = split_data(X, y, 0.8)\n",
    "\n",
    "print(\"Training data shapes\", x_tr.shape, y_tr.shape)\n",
    "print(\"Validation data shapes\", x_val.shape, y_val.shape)"
   ]
  },
  {
   "cell_type": "code",
   "execution_count": 6,
   "outputs": [],
   "source": [
    "x_tr, y_tr = remove_outliers(x_tr,y_tr)"
   ],
   "metadata": {
    "collapsed": false,
    "pycharm": {
     "name": "#%%\n"
    }
   }
  },
  {
   "cell_type": "code",
   "execution_count": 7,
   "outputs": [],
   "source": [
    "# Columns_With_Missing_Features, Feature_Median = calculate_feature_medians(x_tr)\n",
    "# x_tr=fill_features_with_median(x_tr,Columns_With_Missing_Features,Feature_Median)\n",
    "# x_val=fill_features_with_median(x_val,Columns_With_Missing_Features,Feature_Median)"
   ],
   "metadata": {
    "collapsed": false,
    "pycharm": {
     "name": "#%%\n"
    }
   }
  },
  {
   "cell_type": "code",
   "execution_count": 7,
   "metadata": {
    "pycharm": {
     "name": "#%%\n"
    }
   },
   "outputs": [],
   "source": [
    "x_tr, _, _ = standardize(x_tr)\n",
    "x_val, _, _ = standardize(x_val)"
   ]
  },
  {
   "cell_type": "markdown",
   "metadata": {
    "pycharm": {
     "name": "#%% md\n"
    }
   },
   "source": [
    "## Train"
   ]
  },
  {
   "cell_type": "code",
   "execution_count": 8,
   "metadata": {
    "pycharm": {
     "name": "#%%\n"
    }
   },
   "outputs": [],
   "source": [
    "weights, loss = logistic_regression(\n",
    "    y_tr, add_bias_term(x_tr), np.zeros(x_tr.shape[1] + 1), max_iters=3000, gamma=0.1, bias_term=True)"
   ]
  },
  {
   "cell_type": "code",
   "execution_count": 9,
   "metadata": {
    "pycharm": {
     "name": "#%%\n"
    }
   },
   "outputs": [
    {
     "name": "stdout",
     "output_type": "stream",
     "text": [
      "Loss is 0.5203662834820775\n"
     ]
    }
   ],
   "source": [
    "print(\"Loss is\", loss)"
   ]
  },
  {
   "cell_type": "code",
   "execution_count": 10,
   "metadata": {
    "pycharm": {
     "name": "#%%\n"
    }
   },
   "outputs": [
    {
     "data": {
      "text/plain": "0.7402"
     },
     "execution_count": 10,
     "metadata": {},
     "output_type": "execute_result"
    }
   ],
   "source": [
    "compute_score(y_val,add_bias_term(x_val),weights)"
   ]
  },
  {
   "cell_type": "code",
   "execution_count": 12,
   "metadata": {
    "pycharm": {
     "name": "#%%\n"
    }
   },
   "outputs": [
    {
     "name": "stdout",
     "output_type": "stream",
     "text": [
      "0.6621474202602284 0.6908\n",
      "0.662169057821468 0.6885\n",
      "0.6620639867896845 0.6854\n",
      "0.6620951485865851 0.6849\n",
      "Mean with gamma = 0.0001 0.6874\n",
      "0.5528872680332564 0.6979\n",
      "0.5526977213592122 0.6927\n",
      "0.5528027095951247 0.6887\n",
      "0.5532058978379512 0.7049\n",
      "Mean with gamma = 0.01 0.69605\n",
      "0.5291214829357108 0.741\n",
      "0.5286498819262676 0.7329\n",
      "0.5289141676446464 0.7325\n",
      "0.5287500672056056 0.7317\n",
      "Mean with gamma = 0.05 0.734525\n",
      "0.5256192461187579 0.743\n",
      "0.5254105867969192 0.7396\n",
      "0.5257977855483753 0.742\n",
      "0.5257331944414482 0.7439\n",
      "Mean with gamma = 0.1 0.742125\n",
      "0.5224199154313958 0.7417\n",
      "0.5221727618723229 0.7416\n",
      "0.5223553009262326 0.7402\n",
      "0.5229757831242691 0.7501\n",
      "Mean with gamma = 0.5 0.7434000000000001\n",
      "The best performance is achieved when lambda= 0.5 and the accuracy score with it is 0.7434000000000001\n"
     ]
    }
   ],
   "source": [
    "### cross validation\n",
    "gammas=[0.0001, 0.01, 0.05, 0.1, 0.5]\n",
    "best_score = 0\n",
    "lambda_best = -1\n",
    "for g in gammas:\n",
    "    accuracies = []\n",
    "    for train, test in kfolds(y.shape[0],4):\n",
    "        x_tr, y_tr = standardize(X[train])[0], y[train]\n",
    "        weights, loss = logistic_regression(y_tr, x_tr, np.zeros(x_tr.shape[1]), max_iters=2000, gamma=g)\n",
    "        \n",
    "        x_val, y_val = standardize(X[test])[0], y[test]\n",
    "        accuracy = compute_score(y_val,x_val,weights)\n",
    "        accuracies.append(accuracy)\n",
    "        print(loss,accuracy)\n",
    "    mean = sum(accuracies) / len(accuracies)\n",
    "    print('Mean with gamma =', g, mean)\n",
    "    if mean > best_score:\n",
    "        best_score = mean\n",
    "        lambda_best = g\n",
    "\n",
    "print(\"The best performance is achieved when lambda= \" + str(lambda_best) + \" and the accuracy score with it is\", best_score)"
   ]
  },
  {
   "cell_type": "code",
   "execution_count": null,
   "metadata": {
    "pycharm": {
     "name": "#%%\n"
    }
   },
   "outputs": [],
   "source": [
    "### cross validation\n",
    "lambdas=[0.0001, 0.01, 0.05, 0.1, 0.5, 1.0, 5.0, 10.0, 50.0, 100.0, 500.0, 1000]\n",
    "best_score = 0\n",
    "lambda_best = -1\n",
    "for lam in lambdas:\n",
    "    accuracies = []\n",
    "    for train, test in kfolds(y.shape[0]):\n",
    "        x_tr, y_tr = standardize(X[train])[0], y[train]\n",
    "        weights, _ = reg_logistic_regression(\n",
    "            y_tr, add_bias_term(x_tr), lam, np.random.random(x_tr.shape[1] + 1), \n",
    "            max_iters=1000, gamma=0.05, bias_term=True)\n",
    "        \n",
    "        x_val, y_val = standardize(X[test])[0], y[test]\n",
    "        accuracies.append(compute_score(y_val, add_bias_term(x_val), weights))\n",
    "    \n",
    "    mean = sum(accuracies) / len(accuracies)\n",
    "    print('Mean with lambda =', lam, mean)\n",
    "    if mean > best_score:\n",
    "        best_score = mean\n",
    "        lambda_best = lam\n",
    "\n",
    "print(\"The best performance is achieved when lambda= \" + str(lambda_best) + \" and the accuracy score with it is\", best_score)"
   ]
  },
  {
   "cell_type": "markdown",
   "metadata": {
    "pycharm": {
     "name": "#%% md\n"
    }
   },
   "source": [
    "## Evaluate"
   ]
  },
  {
   "cell_type": "code",
   "execution_count": 10,
   "metadata": {
    "pycharm": {
     "name": "#%%\n"
    }
   },
   "outputs": [
    {
     "name": "stdout",
     "output_type": "stream",
     "text": [
      "Validation score is 0.626\n"
     ]
    }
   ],
   "source": [
    "print(\"Validation score is\", compute_score(y_val, add_bias_term(x_val), weights))"
   ]
  },
  {
   "cell_type": "code",
   "execution_count": null,
   "metadata": {
    "scrolled": true,
    "pycharm": {
     "name": "#%%\n"
    }
   },
   "outputs": [],
   "source": [
    "x_tr, x_val, y_tr, y_val = split_data(X, y, 0.75)\n",
    "x_tr, _, _ = standardize(x_tr)\n",
    "x_val, _, _ = standardize(x_val)\n",
    "#x_tr = add_bias_term(x_tr)\n",
    "#x_val = add_bias_term(x_val)\n",
    "\n",
    "train_error, val_error = [], []\n",
    "n = y_tr.shape[0]\n",
    "lambda_ = 0.1\n",
    "for i in range(10, 50000, 40):\n",
    "    x_tr_i = x_tr[:i]\n",
    "    y_tr_i = y_tr[:i]\n",
    "    clf = LogisticRegression(random_state=0, max_iter=1000, C=1 / lambda_).fit(x_tr_i, y_tr_i)\n",
    "    \n",
    "    '''weights, loss = logistic_regression(\n",
    "        y_tr_i, x_tr_i, np.random.random(x_tr_i.shape[1]), \n",
    "            max_iters=200, gamma=0.005, epsilon=10e-2, bias_term=True)'''\n",
    "    \n",
    "    weights = clf.coef_.T\n",
    "    train_error.append(cross_entropy_loss(y_tr_i, x_tr_i, weights))\n",
    "    val_error.append(cross_entropy_loss(y_val, x_val, weights))\n",
    "    \n",
    "    if (i % 1000 == 0):\n",
    "        print(i)"
   ]
  },
  {
   "cell_type": "code",
   "execution_count": 31,
   "metadata": {
    "pycharm": {
     "name": "#%%\n"
    }
   },
   "outputs": [
    {
     "data": {
      "image/png": "[encoded data removed]",
      "text/plain": [
       "<Figure size 720x360 with 1 Axes>"
      ]
     },
     "metadata": {
      "needs_background": "light"
     },
     "output_type": "display_data"
    }
   ],
   "source": [
    "fig = plt.figure(figsize = (10,5))\n",
    "plt.plot(np.arange(10, 50000, 40), train_error, label= 'Train error')\n",
    "plt.plot(np.arange(10, 50000, 40), val_error, label= 'Validation error')\n",
    "plt.xlabel('Train set sample size')\n",
    "plt.ylabel('Cross-validation error')\n",
    "plt.legend(loc=\"upper right\")\n",
    "plt.title('Learning curves')\n",
    "plt.show()"
   ]
  },
  {
   "cell_type": "markdown",
   "metadata": {
    "pycharm": {
     "name": "#%% md\n"
    }
   },
   "source": [
    "### Check what's going on with error"
   ]
  },
  {
   "cell_type": "code",
   "execution_count": 32,
   "metadata": {
    "pycharm": {
     "name": "#%%\n"
    }
   },
   "outputs": [],
   "source": [
    "x_tr, x_val, y_tr, y_val = split_data(X, y, 0.8)\n",
    "x_tr, _, _ = standardize(x_tr)\n",
    "x_val, _, _ = standardize(x_val)"
   ]
  },
  {
   "cell_type": "code",
   "execution_count": 34,
   "metadata": {
    "pycharm": {
     "name": "#%%\n"
    }
   },
   "outputs": [
    {
     "name": "stderr",
     "output_type": "stream",
     "text": [
      "C:\\Users\\Korisnik\\anaconda3\\lib\\site-packages\\sklearn\\linear_model\\_logistic.py:764: ConvergenceWarning: lbfgs failed to converge (status=1):\n",
      "STOP: TOTAL NO. of ITERATIONS REACHED LIMIT.\n",
      "\n",
      "Increase the number of iterations (max_iter) or scale the data as shown in:\n",
      "    https://scikit-learn.org/stable/modules/preprocessing.html\n",
      "Please also refer to the documentation for alternative solver options:\n",
      "    https://scikit-learn.org/stable/modules/linear_model.html#logistic-regression\n",
      "  extra_warning_msg=_LOGISTIC_SOLVER_CONVERGENCE_MSG)\n"
     ]
    }
   ],
   "source": [
    "clf = LogisticRegression(random_state=0, max_iter=2000, C=10).fit(x_tr, y_tr)"
   ]
  },
  {
   "cell_type": "code",
   "execution_count": 37,
   "metadata": {
    "pycharm": {
     "name": "#%%\n"
    }
   },
   "outputs": [
    {
     "data": {
      "text/plain": [
       "0.74296"
      ]
     },
     "execution_count": 37,
     "metadata": {},
     "output_type": "execute_result"
    }
   ],
   "source": [
    "clf.score(x_val, y_val)"
   ]
  },
  {
   "cell_type": "code",
   "execution_count": 36,
   "metadata": {
    "pycharm": {
     "name": "#%%\n"
    }
   },
   "outputs": [
    {
     "data": {
      "text/plain": [
       "(30, 1)"
      ]
     },
     "execution_count": 36,
     "metadata": {},
     "output_type": "execute_result"
    }
   ],
   "source": [
    "clf.coef_.T.shape"
   ]
  },
  {
   "cell_type": "code",
   "execution_count": 46,
   "metadata": {
    "pycharm": {
     "name": "#%%\n"
    }
   },
   "outputs": [
    {
     "name": "stdout",
     "output_type": "stream",
     "text": [
      "0\n"
     ]
    },
    {
     "name": "stderr",
     "output_type": "stream",
     "text": [
      "C:\\Users\\Korisnik\\OneDrive\\Desktop\\EPFL\\Machine Learning\\Project 1\\ml-project-1-zml\\utils.py:66: RuntimeWarning: divide by zero encountered in log\n",
      "  \n",
      "C:\\Users\\Korisnik\\OneDrive\\Desktop\\EPFL\\Machine Learning\\Project 1\\ml-project-1-zml\\utils.py:66: RuntimeWarning: invalid value encountered in matmul\n",
      "  \n"
     ]
    },
    {
     "data": {
      "text/plain": [
       "array([nan])"
      ]
     },
     "execution_count": 46,
     "metadata": {},
     "output_type": "execute_result"
    }
   ],
   "source": [
    "cross_entropy_loss(y_tr, x_tr, clf.coef_.T, lambda_=0.1)"
   ]
  },
  {
   "cell_type": "code",
   "execution_count": 47,
   "metadata": {
    "pycharm": {
     "name": "#%%\n"
    }
   },
   "outputs": [
    {
     "data": {
      "text/plain": [
       "0.342245"
      ]
     },
     "execution_count": 47,
     "metadata": {},
     "output_type": "execute_result"
    }
   ],
   "source": [
    "compute_score(y_tr, x_tr, clf.coef_.T)"
   ]
  },
  {
   "cell_type": "code",
   "execution_count": 52,
   "metadata": {
    "pycharm": {
     "name": "#%%\n"
    }
   },
   "outputs": [
    {
     "data": {
      "text/plain": [
       "131551"
      ]
     },
     "execution_count": 52,
     "metadata": {},
     "output_type": "execute_result"
    }
   ],
   "source": [
    "(y_tr == 0).sum()"
   ]
  },
  {
   "cell_type": "code",
   "execution_count": 53,
   "metadata": {
    "pycharm": {
     "name": "#%%\n"
    }
   },
   "outputs": [
    {
     "data": {
      "text/plain": [
       "68449"
      ]
     },
     "execution_count": 53,
     "metadata": {},
     "output_type": "execute_result"
    }
   ],
   "source": [
    "(y_tr == 1).sum()"
   ]
  },
  {
   "cell_type": "code",
   "execution_count": 60,
   "metadata": {
    "pycharm": {
     "name": "#%%\n"
    }
   },
   "outputs": [
    {
     "data": {
      "text/plain": [
       "0.74256"
      ]
     },
     "execution_count": 60,
     "metadata": {},
     "output_type": "execute_result"
    }
   ],
   "source": [
    "(clf.predict(x_tr) == y_tr).sum() / y_tr.shape[0]"
   ]
  },
  {
   "cell_type": "code",
   "execution_count": 61,
   "metadata": {
    "pycharm": {
     "name": "#%%\n"
    }
   },
   "outputs": [
    {
     "name": "stderr",
     "output_type": "stream",
     "text": [
      "[Parallel(n_jobs=1)]: Using backend SequentialBackend with 1 concurrent workers.\n",
      "C:\\Users\\Korisnik\\anaconda3\\lib\\site-packages\\sklearn\\linear_model\\_logistic.py:764: ConvergenceWarning: lbfgs failed to converge (status=1):\n",
      "STOP: TOTAL NO. of ITERATIONS REACHED LIMIT.\n",
      "\n",
      "Increase the number of iterations (max_iter) or scale the data as shown in:\n",
      "    https://scikit-learn.org/stable/modules/preprocessing.html\n",
      "Please also refer to the documentation for alternative solver options:\n",
      "    https://scikit-learn.org/stable/modules/linear_model.html#logistic-regression\n",
      "  extra_warning_msg=_LOGISTIC_SOLVER_CONVERGENCE_MSG)\n",
      "[Parallel(n_jobs=1)]: Done   1 out of   1 | elapsed:   31.4s finished\n"
     ]
    }
   ],
   "source": [
    "clf = LogisticRegression(random_state=0, max_iter=2000, C=10, verbose=1).fit(x_tr, y_tr)"
   ]
  },
  {
   "cell_type": "code",
   "execution_count": 64,
   "metadata": {
    "pycharm": {
     "name": "#%%\n"
    }
   },
   "outputs": [
    {
     "data": {
      "text/plain": [
       "8.891726934713025"
      ]
     },
     "execution_count": 64,
     "metadata": {},
     "output_type": "execute_result"
    }
   ],
   "source": [
    "from sklearn.metrics import log_loss\n",
    "logloss = log_loss(y_tr, clf.predict(x_tr))\n",
    "logloss"
   ]
  },
  {
   "cell_type": "code",
   "execution_count": null,
   "metadata": {
    "pycharm": {
     "name": "#%%\n"
    }
   },
   "outputs": [],
   "source": []
  }
 ],
 "metadata": {
  "kernelspec": {
   "display_name": "Python 3",
   "language": "python",
   "name": "python3"
  },
  "language_info": {
   "codemirror_mode": {
    "name": "ipython",
    "version": 3
   },
   "file_extension": ".py",
   "mimetype": "text/x-python",
   "name": "python",
   "nbconvert_exporter": "python",
   "pygments_lexer": "ipython3",
   "version": "3.7.9"
  }
 },
 "nbformat": 4,
 "nbformat_minor": 4
}