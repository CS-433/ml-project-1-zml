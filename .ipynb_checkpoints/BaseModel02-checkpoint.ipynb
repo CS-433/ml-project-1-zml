{
 "cells": [
  {
   "cell_type": "markdown",
   "metadata": {},
   "source": [
    "## Import libraries"
   ]
  },
  {
   "cell_type": "code",
   "execution_count": 1,
   "metadata": {
    "pycharm": {
     "name": "#%%\n"
    }
   },
   "outputs": [],
   "source": [
    "%matplotlib inline\n",
    "import numpy as np\n",
    "import matplotlib.pyplot as plt\n",
    "from helpers import *\n",
    "from utils import *\n",
    "from implementations import *\n",
    "from feature_filling import *\n",
    "%load_ext autoreload\n",
    "%autoreload 2"
   ]
  },
  {
   "cell_type": "markdown",
   "metadata": {
    "pycharm": {
     "name": "#%% md\n"
    }
   },
   "source": [
    "## Load the data"
   ]
  },
  {
   "cell_type": "code",
   "execution_count": 2,
   "metadata": {
    "pycharm": {
     "name": "#%%\n"
    }
   },
   "outputs": [
    {
     "name": "stdout",
     "output_type": "stream",
     "text": [
      "Input data shape (250000, 30)\n",
      "Labels data shape (250000,)\n"
     ]
    }
   ],
   "source": [
    "y, X, ids = load_csv_data(path=\"resources/train.csv\")\n",
    "\n",
    "print(\"Input data shape\", X.shape)\n",
    "print(\"Labels data shape\", y.shape)"
   ]
  },
  {
   "cell_type": "code",
   "execution_count": 35,
   "metadata": {
    "pycharm": {
     "name": "#%%\n"
    }
   },
   "outputs": [
    {
     "name": "stdout",
     "output_type": "stream",
     "text": [
      "[ 51.655  68.768 162.172 ...  60.526  19.362  72.756]\n"
     ]
    },
    {
     "data": {
      "text/plain": [
       "array([1., 0., 0., ..., 1., 0., 0.])"
      ]
     },
     "execution_count": 35,
     "metadata": {},
     "output_type": "execute_result"
    }
   ],
   "source": [
    "X[X == -999] = np.NaN\n",
    "# print(X[:, 1])\n",
    "y[np.where(y == -1)] = 0\n",
    "y"
   ]
  },
  {
   "cell_type": "code",
   "execution_count": 9,
   "metadata": {
    "pycharm": {
     "name": "#%%\n"
    },
    "scrolled": true
   },
   "outputs": [
    {
     "name": "stdout",
     "output_type": "stream",
     "text": [
      "Training data shapes (200000, 30) (200000,)\n",
      "Validation data shapes (50000, 30) (50000,)\n"
     ]
    }
   ],
   "source": [
    "x_tr, x_val, y_tr, y_val = split_data(X, y, 0.8)\n",
    "\n",
    "print(\"Training data shapes\", x_tr.shape, y_tr.shape)\n",
    "print(\"Validation data shapes\", x_val.shape, y_val.shape)"
   ]
  },
  {
   "cell_type": "markdown",
   "metadata": {},
   "source": [
    "## Fill the data"
   ]
  },
  {
   "cell_type": "code",
   "execution_count": 54,
   "metadata": {},
   "outputs": [
    {
     "name": "stdout",
     "output_type": "stream",
     "text": [
      "[12 23 24 25 26 27 28]\n",
      "(7,)\n"
     ]
    }
   ],
   "source": [
    "columns_with_missing_features, feature_medians = calculate_feature_medians(x_tr)\n",
    "\n",
    "print(columns_with_missing_features)\n",
    "print(feature_medians.shape)"
   ]
  },
  {
   "cell_type": "code",
   "execution_count": 61,
   "metadata": {},
   "outputs": [
    {
     "name": "stdout",
     "output_type": "stream",
     "text": [
      "[12 23 24 25 26 27 28]\n",
      "[ 4.5100e-01  6.5477e+01 -3.0000e-03 -3.4000e-02  4.7876e+01 -1.2000e-02\n",
      " -1.0000e-03]\n"
     ]
    },
    {
     "data": {
      "text/plain": [
       "array([[ 1.27492e+02,  1.53650e+01,  8.51300e+01,  6.44700e+00,\n",
       "         4.51000e-01,  6.54770e+01, -3.00000e-03,  2.93200e+00,\n",
       "         6.44700e+00,  8.54190e+01,  5.02000e-01, -1.29400e+00,\n",
       "         4.51000e-01,  5.68780e+01,  6.26000e-01,  2.70000e-01,\n",
       "         2.85400e+01, -1.01000e-01, -2.57000e+00,  3.63630e+01,\n",
       "        -3.05200e+00,  1.47057e+02,  0.00000e+00,  6.54770e+01,\n",
       "        -3.00000e-03, -3.40000e-02,  4.78760e+01, -1.20000e-02,\n",
       "        -1.00000e-03,  0.00000e+00],\n",
       "       [ 9.43680e+01,  3.10450e+01,  6.64580e+01,  4.58220e+01,\n",
       "         2.10300e+00,  1.16093e+02, -1.00000e+00,  2.31700e+00,\n",
       "         2.46690e+01,  1.55259e+02,  1.26200e+00,  1.40400e+00,\n",
       "         3.40000e-01,  3.11650e+01,  1.74000e-01,  1.81000e-01,\n",
       "         3.93160e+01,  7.68000e-01,  2.42100e+00,  1.54200e+01,\n",
       "         1.05700e+00,  2.48829e+02,  2.00000e+00,  5.39770e+01,\n",
       "         7.27000e-01, -2.45200e+00,  3.08000e+01, -1.37600e+00,\n",
       "        -1.07700e+00,  8.47780e+01],\n",
       "       [ 2.32744e+02,  2.19210e+01,  1.37997e+02,  1.06603e+02,\n",
       "         1.00500e+00,  1.20695e+02,  2.94000e+00,  2.86500e+00,\n",
       "         5.80690e+01,  2.12069e+02,  1.28400e+00,  4.17000e-01,\n",
       "         0.00000e+00,  4.31240e+01, -5.60000e-01, -7.48000e-01,\n",
       "         5.53680e+01, -2.47000e+00,  1.38700e+00,  7.80730e+01,\n",
       "         1.72200e+00,  2.72846e+02,  2.00000e+00,  6.19220e+01,\n",
       "         1.28400e+00, -3.05900e+00,  5.16550e+01,  2.29000e+00,\n",
       "        -8.60000e-01,  1.13577e+02],\n",
       "       [ 1.19508e+02,  1.40500e+01,  6.13570e+01,  1.15227e+02,\n",
       "         2.11000e+00,  2.02730e+02, -2.29000e-01,  1.69200e+00,\n",
       "         2.79810e+01,  2.57562e+02,  5.14000e-01,  1.26500e+00,\n",
       "         0.00000e+00,  5.62040e+01, -1.74100e+00,  2.12900e+00,\n",
       "         2.88890e+01, -2.16800e+00, -2.51700e+00,  6.41780e+01,\n",
       "        -2.84500e+00,  2.98250e+02,  2.00000e+00,  1.36674e+02,\n",
       "        -1.15000e-01, -2.86000e-01,  3.57940e+01,  1.99500e+00,\n",
       "         1.27600e+00,  1.72469e+02],\n",
       "       [ 1.23232e+02,  1.57610e+01,  8.65980e+01,  4.04370e+01,\n",
       "         4.51000e-01,  6.54770e+01, -3.00000e-03,  2.64500e+00,\n",
       "         4.44600e+00,  1.21605e+02,  1.20800e+00, -5.69000e-01,\n",
       "         4.51000e-01,  3.78440e+01,  9.33000e-01,  1.53700e+00,\n",
       "         4.56970e+01,  1.75400e+00, -9.78000e-01,  2.67260e+01,\n",
       "        -1.43300e+00,  1.47976e+02,  1.00000e+00,  3.80640e+01,\n",
       "         5.48000e-01,  2.52200e+00,  4.78760e+01, -1.20000e-02,\n",
       "        -1.00000e-03,  3.80640e+01],\n",
       "       [ 1.25371e+02,  2.33420e+01,  8.98970e+01,  8.27140e+01,\n",
       "         4.51000e-01,  6.54770e+01, -3.00000e-03,  2.10800e+00,\n",
       "         2.86120e+01,  1.42656e+02,  5.83000e-01,  1.35100e+00,\n",
       "         4.51000e-01,  5.59130e+01,  1.31000e-01, -2.09300e+00,\n",
       "         3.25990e+01,  1.58800e+00, -5.70000e-01,  1.66810e+01,\n",
       "        -1.61800e+00,  3.01681e+02,  1.00000e+00,  5.41440e+01,\n",
       "         1.57700e+00,  1.53300e+00,  4.78760e+01, -1.20000e-02,\n",
       "        -1.00000e-03,  5.41440e+01],\n",
       "       [ 1.44276e+02,  9.02300e+00,  6.67310e+01,  9.05030e+01,\n",
       "         4.51000e-01,  6.54770e+01, -3.00000e-03,  2.88900e+00,\n",
       "         4.55900e+00,  1.59175e+02,  9.85000e-01,  1.29400e+00,\n",
       "         4.51000e-01,  3.33390e+01,  3.34000e-01,  2.13200e+00,\n",
       "         3.28260e+01, -4.40000e-02, -1.28800e+00,  8.77810e+01,\n",
       "        -1.45600e+00,  2.11301e+02,  1.00000e+00,  9.30110e+01,\n",
       "        -9.39000e-01,  1.62900e+00,  4.78760e+01, -1.20000e-02,\n",
       "        -1.00000e-03,  9.30100e+01],\n",
       "       [ 1.46707e+02,  2.93410e+01,  9.53350e+01,  3.58470e+01,\n",
       "         4.51000e-01,  6.54770e+01, -3.00000e-03,  3.32400e+00,\n",
       "         3.55400e+00,  8.97030e+01,  1.02500e+00, -1.12600e+00,\n",
       "         4.51000e-01,  2.70870e+01, -7.02000e-01,  1.98600e+00,\n",
       "         2.77650e+01,  1.65800e+00, -1.95600e+00,  4.02630e+01,\n",
       "        -1.04800e+00,  1.35513e+02,  1.00000e+00,  3.48510e+01,\n",
       "         2.51600e+00,  1.63200e+00,  4.78760e+01, -1.20000e-02,\n",
       "        -1.00000e-03,  3.48510e+01],\n",
       "       [ 3.90400e+01,  1.30120e+01,  2.68250e+01,  1.22975e+02,\n",
       "         4.51000e-01,  6.54770e+01, -3.00000e-03,  6.03000e-01,\n",
       "         1.78380e+01,  2.02176e+02,  4.26000e-01,  3.78000e-01,\n",
       "         4.51000e-01,  6.79830e+01, -2.96000e-01,  2.22800e+00,\n",
       "         2.89310e+01,  1.66000e-01,  2.61500e+00,  3.34410e+01,\n",
       "         3.03700e+00,  2.87099e+02,  1.00000e+00,  1.05263e+02,\n",
       "        -2.65000e-01, -6.43000e-01,  4.78760e+01, -1.20000e-02,\n",
       "        -1.00000e-03,  1.05263e+02],\n",
       "       [ 1.08843e+02,  3.82350e+01,  7.47040e+01,  9.13550e+01,\n",
       "         4.68300e+00,  4.83333e+02, -4.49500e+00,  1.91500e+00,\n",
       "         3.98040e+01,  2.30562e+02,  4.59000e-01,  1.31200e+00,\n",
       "         9.36000e-01,  6.67170e+01,  7.17000e-01,  5.55000e-01,\n",
       "         3.06490e+01,  3.90000e-01,  2.44100e+00,  2.71670e+01,\n",
       "         9.93000e-01,  2.11104e+02,  3.00000e+00,  5.16630e+01,\n",
       "         3.33600e+00, -2.02100e+00,  4.19680e+01, -1.34800e+00,\n",
       "         3.01400e+00,  1.33196e+02],\n",
       "       [ 1.41407e+02,  5.59200e+00,  6.03000e+01,  1.24760e+02,\n",
       "         4.51000e-01,  6.54770e+01, -3.00000e-03,  1.92000e+00,\n",
       "         1.57030e+01,  1.91857e+02,  6.02000e-01,  1.10200e+00,\n",
       "         4.51000e-01,  4.69510e+01, -6.25000e-01,  1.60000e+00,\n",
       "         2.82610e+01, -2.95000e-01, -2.91000e-01,  9.90550e+01,\n",
       "        -1.85000e-01,  3.06376e+02,  1.00000e+00,  1.16644e+02,\n",
       "        -2.12000e-01, -3.08700e+00,  4.78760e+01, -1.20000e-02,\n",
       "        -1.00000e-03,  1.16644e+02],\n",
       "       [ 9.39310e+01,  3.31480e+01,  7.43230e+01,  7.54010e+01,\n",
       "         4.51000e-01,  6.54770e+01, -3.00000e-03,  1.66500e+00,\n",
       "         2.34480e+01,  1.61634e+02,  2.16600e+00, -1.14800e+00,\n",
       "         4.51000e-01,  3.37940e+01, -1.29800e+00, -3.40000e-02,\n",
       "         7.31820e+01, -9.68000e-01,  1.59800e+00,  6.81400e+00,\n",
       "        -3.01300e+00,  2.57636e+02,  1.00000e+00,  5.46570e+01,\n",
       "        -7.42000e-01, -2.08000e+00,  4.78760e+01, -1.20000e-02,\n",
       "        -1.00000e-03,  5.46570e+01]])"
      ]
     },
     "execution_count": 61,
     "metadata": {},
     "output_type": "execute_result"
    }
   ],
   "source": [
    "x_tr = fill_features_with_median(x_tr, columns_with_missing_features, feature_medians)\n",
    "print(columns_with_missing_features)\n",
    "print(feature_medians)\n",
    "# x_tr[:12]"
   ]
  },
  {
   "cell_type": "code",
   "execution_count": null,
   "metadata": {
    "pycharm": {
     "name": "#%%\n"
    }
   },
   "outputs": [],
   "source": [
    "x_tr = add_bias_term(standardize(x_tr)[0])\n",
    "x_val = add_bias_term(standardize(x_val)[0])\n",
    "\n",
    "print(\"Training data shapes\", x_tr.shape)\n",
    "print(\"Validation data shapes\", x_val.shape)"
   ]
  },
  {
   "cell_type": "markdown",
   "metadata": {},
   "source": [
    "## Train"
   ]
  },
  {
   "cell_type": "code",
   "execution_count": null,
   "metadata": {
    "scrolled": true
   },
   "outputs": [],
   "source": [
    "weights, loss = reg_logistic_regression(\n",
    "    y_tr, x_tr, 0, np.zeros(x_tr.shape[1]), max_iters=10000, gamma=0.2)"
   ]
  },
  {
   "cell_type": "code",
   "execution_count": null,
   "metadata": {},
   "outputs": [],
   "source": [
    "print(\"Training score\", compute_score(y_tr, x_tr, weights))\n",
    "print(\"Validation score\", compute_score(y_val, x_val, weights))"
   ]
  },
  {
   "cell_type": "code",
   "execution_count": null,
   "metadata": {
    "scrolled": true
   },
   "outputs": [],
   "source": [
    "plt.plot(np.arange(len(loss)), loss)\n",
    "plt.xlabel(\"Iterarion\")\n",
    "plt.ylabel(\"Loss\")\n",
    "plt.show()"
   ]
  },
  {
   "cell_type": "markdown",
   "metadata": {},
   "source": [
    "## Testing"
   ]
  },
  {
   "cell_type": "code",
   "execution_count": null,
   "metadata": {},
   "outputs": [],
   "source": [
    "_, XTest, idsTest = load_csv_data(path=\"resources/test.csv\")\n",
    "\n",
    "print(\"Input data shape\", XTest.shape)\n",
    "# print(\"Labels data shape\", y.shape)"
   ]
  },
  {
   "cell_type": "code",
   "execution_count": null,
   "metadata": {},
   "outputs": [],
   "source": [
    "XTest = add_bias_term(standardize(XTest)[0])\n",
    "XTest.shape"
   ]
  },
  {
   "cell_type": "code",
   "execution_count": null,
   "metadata": {},
   "outputs": [],
   "source": [
    "yTest = np.array([predictions(x, weights) for x in XTest])"
   ]
  },
  {
   "cell_type": "code",
   "execution_count": null,
   "metadata": {},
   "outputs": [],
   "source": [
    "yTest[np.where(yTest == 0)] = -1\n",
    "print(yTest)"
   ]
  },
  {
   "cell_type": "code",
   "execution_count": null,
   "metadata": {},
   "outputs": [],
   "source": [
    "create_csv_submission(idsTest, yTest, \"01.csv\")"
   ]
  },
  {
   "cell_type": "code",
   "execution_count": null,
   "metadata": {},
   "outputs": [],
   "source": [
    "(yTest==1).sum()/len(yTest)"
   ]
  },
  {
   "cell_type": "code",
   "execution_count": null,
   "metadata": {},
   "outputs": [],
   "source": []
  }
 ],
 "metadata": {
  "kernelspec": {
   "display_name": "Python 3 (ipykernel)",
   "language": "python",
   "name": "python3"
  },
  "language_info": {
   "codemirror_mode": {
    "name": "ipython",
    "version": 3
   },
   "file_extension": ".py",
   "mimetype": "text/x-python",
   "name": "python",
   "nbconvert_exporter": "python",
   "pygments_lexer": "ipython3",
   "version": "3.10.6"
  },
  "vscode": {
   "interpreter": {
    "hash": "b890a3746d1f20c282dd4547165a8453d661bae2ef62b8d4c3ac4be0dc5d2dcc"
   }
  }
 },
 "nbformat": 4,
 "nbformat_minor": 2
}
