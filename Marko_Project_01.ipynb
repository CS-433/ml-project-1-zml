{
 "cells": [
  {
   "cell_type": "markdown",
   "metadata": {},
   "source": [
    "## Import Libraries"
   ]
  },
  {
   "cell_type": "code",
   "execution_count": 1,
   "metadata": {},
   "outputs": [],
   "source": [
    "%matplotlib inline\n",
    "import numpy as np\n",
    "import matplotlib.pyplot as plt\n",
    "%load_ext autoreload\n",
    "%autoreload 2\n",
    "from implementations import *\n",
    "from helpers import *\n",
    "from cmath import nan"
   ]
  },
  {
   "cell_type": "markdown",
   "metadata": {},
   "source": [
    "## Load data"
   ]
  },
  {
   "cell_type": "code",
   "execution_count": 16,
   "metadata": {},
   "outputs": [
    {
     "name": "stdout",
     "output_type": "stream",
     "text": [
      "Labels data shape (568238,)\n"
     ]
    }
   ],
   "source": [
    "y, X, ids = load_csv_data(path=\"resources/test.csv\")\n",
    "# print(\"Input data shape\", X.shape)\n",
    "print(\"Labels data shape\", y.shape)"
   ]
  },
  {
   "cell_type": "markdown",
   "metadata": {},
   "source": [
    "## Sanitize and Standardazi data"
   ]
  },
  {
   "cell_type": "code",
   "execution_count": 14,
   "metadata": {},
   "outputs": [],
   "source": [
    "# Sanitize\n",
    "X[X == -999] = np.NaN\n",
    "# print(X)\n",
    "\n",
    "# Standardize\n",
    "def standardizeIgnoreNaNs(x):\n",
    "    \"\"\"Standardize the original data set.\"\"\"\n",
    "    mean_x = np.nanmean(x)\n",
    "    x -= mean_x\n",
    "    std_x = np.nanstd(x)\n",
    "    x /= std_x\n",
    "    return x, mean_x, std_x\n",
    "standardizeIgnoreNaNs(X)\n",
    "pass"
   ]
  },
  {
   "cell_type": "markdown",
   "metadata": {},
   "source": [
    "## Extract columns indices which have no NaNs"
   ]
  },
  {
   "cell_type": "code",
   "execution_count": 15,
   "metadata": {},
   "outputs": [
    {
     "data": {
      "text/plain": [
       "array([ 1,  2,  3,  7,  8,  9, 10, 11, 13, 14, 15, 16, 17, 18, 19, 20, 21,\n",
       "       22, 29])"
      ]
     },
     "execution_count": 15,
     "metadata": {},
     "output_type": "execute_result"
    }
   ],
   "source": [
    "# print(X[1])\n",
    "# print((~np.isnan(X))[1])\n",
    "# np.where(np.all(X != nan, axis=0))\n",
    "# np.all(~np.isnan(X), axis=0)\n",
    "Columns_With_All_Features = np.where(np.all(~np.isnan(X), axis=0))[0]\n",
    "Columns_With_All_Features"
   ]
  },
  {
   "cell_type": "markdown",
   "metadata": {},
   "source": [
    "## Find missing features with linear regression"
   ]
  },
  {
   "cell_type": "code",
   "execution_count": 5,
   "metadata": {},
   "outputs": [],
   "source": [
    "# # method \n",
    "\n",
    "# def find_missing_features(X_Partial, w, feature_index):\n",
    "# print(X.shape)"
   ]
  },
  {
   "cell_type": "code",
   "execution_count": 6,
   "metadata": {},
   "outputs": [
    {
     "name": "stdout",
     "output_type": "stream",
     "text": [
      "False\n"
     ]
    }
   ],
   "source": [
    "for Feature_Index in range(X.shape[1]):\n",
    "    # print(Columns_With_All_Features)\n",
    "    if Feature_Index in Columns_With_All_Features:\n",
    "        continue\n",
    "    # print(~np.isnan(X[:, Feature_Index]))\n",
    "    # print(np.nonzero(~np.isnan(X[:, Feature_Index]))[0])\n",
    "    \n",
    "    Rows_With_Feature_Index = np.nonzero(~np.isnan(X[:, Feature_Index]))[0]\n",
    "    Rows_Without_Feature_Index = np.setdiff1d(np.arange(X.shape[0]), Rows_With_Feature_Index)\n",
    "    # print(Rows_With_Feature_Index)\n",
    "    # print(Rows_Without_Feature_Index)\n",
    "    # print(Columns_With_All_Features)\n",
    "    # print(X[np.ix_(Rows_With_Feature_Index, Columns_With_All_Features)])\n",
    "\n",
    "    # print(np.take(X, [Rows_With_Feature_Index, Columns_With_All_Features]))\n",
    "    # print(Rows_With_Feature_Index.shape[0] + Rows_Without_Feature_Index.shape[0])\n",
    "    # print(\"##########\")\n",
    "    weights, loss = least_squares(X[np.ix_(Rows_With_Feature_Index, Columns_With_All_Features)], X[np.ix_(Rows_With_Feature_Index, [Feature_Index])])\n",
    "    weights = weights.T\n",
    "    # print(weights)\n",
    "    # print(X[np.ix_(Rows_Without_Feature_Index, Columns_With_All_Features)].shape)\n",
    "    # print(wights.shape)\n",
    "    # print((X[np.ix_(Rows_Without_Feature_Index, Columns_With_All_Features)] @ weights).shape)\n",
    "    # print(X[np.ix_(Rows_Without_Feature_Index, [Feature_Index])].shape)\n",
    "    # print(\"######\")\n",
    "    X[np.ix_(Rows_Without_Feature_Index, [Feature_Index])] = X[np.ix_(Rows_Without_Feature_Index, Columns_With_All_Features)] @ weights\n",
    "\n",
    "print(np.any(np.isnan(X)))"
   ]
  },
  {
   "cell_type": "code",
   "execution_count": 7,
   "metadata": {},
   "outputs": [],
   "source": [
    "# Columns_With_All_Features.shape\n",
    "# print(np.any(np.isnan(X)))"
   ]
  },
  {
   "cell_type": "markdown",
   "metadata": {},
   "source": [
    "## Classification"
   ]
  }
 ],
 "metadata": {
  "kernelspec": {
   "display_name": "Python 3.10.6 64-bit",
   "language": "python",
   "name": "python3"
  },
  "language_info": {
   "codemirror_mode": {
    "name": "ipython",
    "version": 3
   },
   "file_extension": ".py",
   "mimetype": "text/x-python",
   "name": "python",
   "nbconvert_exporter": "python",
   "pygments_lexer": "ipython3",
   "version": "3.10.6"
  },
  "orig_nbformat": 4,
  "vscode": {
   "interpreter": {
    "hash": "916dbcbb3f70747c44a77c7bcd40155683ae19c65e1c03b4aa3499c5328201f1"
   }
  }
 },
 "nbformat": 4,
 "nbformat_minor": 2
}
