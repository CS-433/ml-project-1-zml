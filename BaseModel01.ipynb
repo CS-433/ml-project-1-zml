{
 "cells": [
  {
   "cell_type": "markdown",
   "metadata": {},
   "source": [
    "## Import libraries"
   ]
  },
  {
   "cell_type": "code",
   "execution_count": 1,
   "metadata": {
    "pycharm": {
     "name": "#%%\n"
    }
   },
   "outputs": [],
   "source": [
    "%matplotlib inline\n",
    "import numpy as np\n",
    "import matplotlib.pyplot as plt\n",
    "from helpers import *\n",
    "from utils import *\n",
    "from implementations import *\n",
    "from preprocessing import *\n",
    "%load_ext autoreload\n",
    "%autoreload 2"
   ]
  },
  {
   "cell_type": "markdown",
   "metadata": {
    "pycharm": {
     "name": "#%% md\n"
    }
   },
   "source": [
    "## Load the data"
   ]
  },
  {
   "cell_type": "code",
   "execution_count": 2,
   "metadata": {
    "pycharm": {
     "name": "#%%\n"
    }
   },
   "outputs": [
    {
     "name": "stdout",
     "output_type": "stream",
     "text": [
      "Input data shape (250000, 30)\n",
      "Labels data shape (250000,)\n"
     ]
    }
   ],
   "source": [
    "y, X, ids = load_csv_data(path=\"resources/train.csv\")\n",
    "\n",
    "print(\"Input data shape\", X.shape)\n",
    "print(\"Labels data shape\", y.shape)"
   ]
  },
  {
   "cell_type": "code",
   "execution_count": 3,
   "metadata": {
    "pycharm": {
     "name": "#%%\n"
    }
   },
   "outputs": [
    {
     "data": {
      "text/plain": [
       "array([1., 0., 0., ..., 1., 0., 0.])"
      ]
     },
     "execution_count": 3,
     "metadata": {},
     "output_type": "execute_result"
    }
   ],
   "source": [
    "y[np.where(y == -1)] = 0\n",
    "y"
   ]
  },
  {
   "cell_type": "code",
   "execution_count": 4,
   "metadata": {
    "pycharm": {
     "name": "#%%\n"
    }
   },
   "outputs": [
    {
     "name": "stdout",
     "output_type": "stream",
     "text": [
      "Training data shapes (200000, 30) (200000,)\n",
      "Validation data shapes (50000, 30) (50000,)\n"
     ]
    }
   ],
   "source": [
    "x_tr, x_val, y_tr, y_val = split_data(X, y, 0.8)\n",
    "\n",
    "print(\"Training data shapes\", x_tr.shape, y_tr.shape)\n",
    "print(\"Validation data shapes\", x_val.shape, y_val.shape)"
   ]
  },
  {
   "cell_type": "code",
   "execution_count": 5,
   "metadata": {
    "pycharm": {
     "name": "#%%\n"
    }
   },
   "outputs": [
    {
     "name": "stdout",
     "output_type": "stream",
     "text": [
      "Training data shapes (200000, 31)\n",
      "Validation data shapes (50000, 31)\n"
     ]
    }
   ],
   "source": [
    "x_tr = add_bias_term(standardize(x_tr)[0])\n",
    "x_val = add_bias_term(standardize(x_val)[0])\n",
    "\n",
    "print(\"Training data shapes\", x_tr.shape)\n",
    "print(\"Validation data shapes\", x_val.shape)"
   ]
  },
  {
   "cell_type": "markdown",
   "metadata": {},
   "source": [
    "## Train"
   ]
  },
  {
   "cell_type": "code",
   "execution_count": 6,
   "metadata": {
    "scrolled": true
   },
   "outputs": [
    {
     "name": "stdout",
     "output_type": "stream",
     "text": [
      "Iteration 1/10000: loss=0.6931471805599453\n",
      "Iteration 201/10000: loss=0.49737981618780047\n",
      "Iteration 401/10000: loss=0.4969392645276609\n",
      "Iteration 601/10000: loss=0.4969221332646466\n"
     ]
    }
   ],
   "source": [
    "weights, loss = reg_logistic_regression(\n",
    "    y_tr, x_tr, 0.0, np.zeros(x_tr.shape[1]), max_iters=10000, gamma=0.2)"
   ]
  },
  {
   "cell_type": "code",
   "execution_count": 7,
   "metadata": {},
   "outputs": [
    {
     "name": "stdout",
     "output_type": "stream",
     "text": [
      "Training score 0.750205\n",
      "Validation score 0.74996\n"
     ]
    }
   ],
   "source": [
    "print(\"Training score\", compute_score(y_tr, x_tr, weights))\n",
    "print(\"Validation score\", compute_score(y_val, x_val, weights))"
   ]
  },
  {
   "cell_type": "code",
   "execution_count": 9,
   "metadata": {},
   "outputs": [
    {
     "data": {
      "text/plain": [
       "array([[ 1.        ,  0.28957346,  0.36628511, ..., -0.63882803,\n",
       "        -0.63882841, -0.74542815],\n",
       "       [ 1.        ,  0.42798695,  0.85953265, ..., -0.63882803,\n",
       "        -0.63882841, -0.74542815],\n",
       "       [ 1.        ,  0.45007824, -1.14775362, ...,  1.56039627,\n",
       "         1.5588392 ,  0.47571402],\n",
       "       ...,\n",
       "       [ 1.        ,  0.58822578,  1.21143594, ..., -0.63882803,\n",
       "        -0.63882841, -0.40548587],\n",
       "       [ 1.        ,  0.44167365,  0.57814584, ..., -0.63882803,\n",
       "        -0.63882841, -0.74542815],\n",
       "       [ 1.        ,  0.35114146, -0.06790628, ..., -0.63882803,\n",
       "        -0.63882841, -0.74542815]])"
      ]
     },
     "execution_count": 9,
     "metadata": {},
     "output_type": "execute_result"
    }
   ],
   "source": [
    "x_tr"
   ]
  },
  {
   "cell_type": "code",
   "execution_count": 8,
   "metadata": {
    "scrolled": true
   },
   "outputs": [
    {
     "ename": "TypeError",
     "evalue": "object of type 'numpy.float64' has no len()",
     "output_type": "error",
     "traceback": [
      "\u001b[1;31m---------------------------------------------------------------------------\u001b[0m",
      "\u001b[1;31mTypeError\u001b[0m                                 Traceback (most recent call last)",
      "\u001b[1;32m~\\AppData\\Local\\Temp\\ipykernel_18776\\2830186100.py\u001b[0m in \u001b[0;36m<module>\u001b[1;34m\u001b[0m\n\u001b[1;32m----> 1\u001b[1;33m \u001b[0mplt\u001b[0m\u001b[1;33m.\u001b[0m\u001b[0mplot\u001b[0m\u001b[1;33m(\u001b[0m\u001b[0mnp\u001b[0m\u001b[1;33m.\u001b[0m\u001b[0marange\u001b[0m\u001b[1;33m(\u001b[0m\u001b[0mlen\u001b[0m\u001b[1;33m(\u001b[0m\u001b[0mloss\u001b[0m\u001b[1;33m)\u001b[0m\u001b[1;33m)\u001b[0m\u001b[1;33m,\u001b[0m \u001b[0mloss\u001b[0m\u001b[1;33m)\u001b[0m\u001b[1;33m\u001b[0m\u001b[1;33m\u001b[0m\u001b[0m\n\u001b[0m\u001b[0;32m      2\u001b[0m \u001b[0mplt\u001b[0m\u001b[1;33m.\u001b[0m\u001b[0mxlabel\u001b[0m\u001b[1;33m(\u001b[0m\u001b[1;34m\"Iterarion\"\u001b[0m\u001b[1;33m)\u001b[0m\u001b[1;33m\u001b[0m\u001b[1;33m\u001b[0m\u001b[0m\n\u001b[0;32m      3\u001b[0m \u001b[0mplt\u001b[0m\u001b[1;33m.\u001b[0m\u001b[0mylabel\u001b[0m\u001b[1;33m(\u001b[0m\u001b[1;34m\"Loss\"\u001b[0m\u001b[1;33m)\u001b[0m\u001b[1;33m\u001b[0m\u001b[1;33m\u001b[0m\u001b[0m\n\u001b[0;32m      4\u001b[0m \u001b[0mplt\u001b[0m\u001b[1;33m.\u001b[0m\u001b[0mshow\u001b[0m\u001b[1;33m(\u001b[0m\u001b[1;33m)\u001b[0m\u001b[1;33m\u001b[0m\u001b[1;33m\u001b[0m\u001b[0m\n",
      "\u001b[1;31mTypeError\u001b[0m: object of type 'numpy.float64' has no len()"
     ]
    }
   ],
   "source": [
    "plt.plot(np.arange(len(loss)), loss)\n",
    "plt.xlabel(\"Iterarion\")\n",
    "plt.ylabel(\"Loss\")\n",
    "plt.show()"
   ]
  },
  {
   "cell_type": "markdown",
   "metadata": {},
   "source": [
    "## Testing"
   ]
  },
  {
   "cell_type": "code",
   "execution_count": null,
   "metadata": {},
   "outputs": [],
   "source": [
    "_, XTest, idsTest = load_csv_data(path=\"resources/test.csv\")\n",
    "\n",
    "print(\"Input data shape\", XTest.shape)\n",
    "# print(\"Labels data shape\", y.shape)"
   ]
  },
  {
   "cell_type": "code",
   "execution_count": null,
   "metadata": {},
   "outputs": [],
   "source": [
    "XTest = add_bias_term(standardize(XTest)[0])\n",
    "XTest.shape"
   ]
  },
  {
   "cell_type": "code",
   "execution_count": null,
   "metadata": {},
   "outputs": [],
   "source": [
    "yTest = np.array([predictions(x, weights) for x in XTest])"
   ]
  },
  {
   "cell_type": "code",
   "execution_count": null,
   "metadata": {},
   "outputs": [],
   "source": [
    "yTest[np.where(yTest == 0)] = -1\n",
    "print(yTest)"
   ]
  },
  {
   "cell_type": "code",
   "execution_count": null,
   "metadata": {},
   "outputs": [],
   "source": [
    "create_csv_submission(idsTest, yTest, \"01.csv\")"
   ]
  },
  {
   "cell_type": "code",
   "execution_count": null,
   "metadata": {},
   "outputs": [],
   "source": [
    "(yTest==1).sum()/len(yTest)"
   ]
  },
  {
   "cell_type": "code",
   "execution_count": null,
   "metadata": {},
   "outputs": [],
   "source": []
  }
 ],
 "metadata": {
  "kernelspec": {
   "display_name": "Python 3 (ipykernel)",
   "language": "python",
   "name": "python3"
  },
  "language_info": {
   "codemirror_mode": {
    "name": "ipython",
    "version": 3
   },
   "file_extension": ".py",
   "mimetype": "text/x-python",
   "name": "python",
   "nbconvert_exporter": "python",
   "pygments_lexer": "ipython3",
   "version": "3.7.12"
  },
  "vscode": {
   "interpreter": {
    "hash": "b890a3746d1f20c282dd4547165a8453d661bae2ef62b8d4c3ac4be0dc5d2dcc"
   }
  }
 },
 "nbformat": 4,
 "nbformat_minor": 2
}
