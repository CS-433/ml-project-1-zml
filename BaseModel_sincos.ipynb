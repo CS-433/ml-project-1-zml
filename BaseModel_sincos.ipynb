{
 "cells": [
  {
   "cell_type": "markdown",
   "metadata": {
    "pycharm": {
     "name": "#%% md\n"
    }
   },
   "source": [
    "## Import libraries"
   ]
  },
  {
   "cell_type": "code",
   "execution_count": 1,
   "metadata": {
    "pycharm": {
     "name": "#%%\n"
    }
   },
   "outputs": [],
   "source": [
    "%matplotlib inline\n",
    "import numpy as np\n",
    "import matplotlib.pyplot as plt\n",
    "from helpers import *\n",
    "from utils import *\n",
    "from implementations import *\n",
    "%load_ext autoreload\n",
    "%autoreload 2"
   ]
  },
  {
   "cell_type": "markdown",
   "metadata": {
    "pycharm": {
     "name": "#%% md\n"
    }
   },
   "source": [
    "## Load the data"
   ]
  },
  {
   "cell_type": "code",
   "execution_count": 22,
   "metadata": {
    "pycharm": {
     "name": "#%%\n"
    }
   },
   "outputs": [
    {
     "name": "stdout",
     "output_type": "stream",
     "text": [
      "Input data shape (250000, 30)\n",
      "Labels data shape (250000,)\n"
     ]
    }
   ],
   "source": [
    "y, X, ids = load_csv_data(path=\"data/train.csv\")\n",
    "print(\"Input data shape\", X.shape)\n",
    "print(\"Labels data shape\", y.shape)"
   ]
  },
  {
   "cell_type": "code",
   "execution_count": 23,
   "metadata": {
    "pycharm": {
     "name": "#%%\n"
    }
   },
   "outputs": [
    {
     "data": {
      "text/plain": "array([1., 0., 0., ..., 1., 0., 0.])"
     },
     "execution_count": 23,
     "metadata": {},
     "output_type": "execute_result"
    }
   ],
   "source": [
    "y[np.where(y == -1)] = 0\n",
    "y"
   ]
  },
  {
   "cell_type": "code",
   "execution_count": 12,
   "outputs": [],
   "source": [
    "def deal_with_meaningless_value(tx, meaningless_value):\n",
    "    '''\n",
    "    ##### Input:\n",
    "    tx: features --- np.array(N,M)\n",
    "    meaningless_V: meaningless value in tx i.e. -999 --- double\n",
    "    ##### Output:\n",
    "    new_tx: new features matrix after dealing the meaningless value\n",
    "    '''\n",
    "    # we compute the mean of one column to replace the meaningless value\n",
    "    tx_copy = tx.copy()\n",
    "    num_cols = tx.shape[1]\n",
    "    for col in range(num_cols):\n",
    "        col_tmp = tx_copy[:, col]\n",
    "        col_tmp = np.delete(col_tmp, np.where(col_tmp == meaningless_value))\n",
    "        col_mean = np.mean(col_tmp)\n",
    "        tx_copy[:, col] = np.where(tx[:, col] == meaningless_value, col_mean, tx[:, col])\n",
    "    return tx_copy"
   ],
   "metadata": {
    "collapsed": false,
    "pycharm": {
     "name": "#%%\n"
    }
   }
  },
  {
   "cell_type": "code",
   "execution_count": 24,
   "outputs": [],
   "source": [
    "X = deal_with_meaningless_value(X, -999)\n",
    "X_std,_,_=standardize(X)\n",
    "X_sincos = np.c_[X_std,np.sin(X), np.cos(X)]"
   ],
   "metadata": {
    "collapsed": false,
    "pycharm": {
     "name": "#%%\n"
    }
   }
  },
  {
   "cell_type": "code",
   "execution_count": 25,
   "outputs": [
    {
     "data": {
      "text/plain": "array([[ 0.9292726 ,  0.04457539,  0.51509592, ...,  0.32479628,\n        -0.78593303,  0.9211916 ],\n       [ 1.15822487,  0.21896718,  0.5702067 , ...,  0.99992985,\n         0.99999875, -0.62326156],\n       [ 0.75999168,  1.17081027,  0.80171682, ...,  0.99992985,\n         0.99999875,  0.96411608],\n       ...,\n       [ 0.59285022,  0.13497623,  0.29102494, ...,  0.99992985,\n         0.99999875, -0.40730461],\n       [ 0.48578774, -0.28450975,  0.21941557, ...,  0.99992985,\n         0.99999875,  1.        ],\n       [ 0.75999168,  0.25960731,  0.2399904 , ...,  0.99992985,\n         0.99999875,  1.        ]])"
     },
     "execution_count": 25,
     "metadata": {},
     "output_type": "execute_result"
    }
   ],
   "source": [
    "X_sincos"
   ],
   "metadata": {
    "collapsed": false,
    "pycharm": {
     "name": "#%%\n"
    }
   }
  },
  {
   "cell_type": "code",
   "execution_count": 26,
   "metadata": {
    "pycharm": {
     "name": "#%%\n"
    }
   },
   "outputs": [
    {
     "name": "stdout",
     "output_type": "stream",
     "text": [
      "Training data shapes (200000, 90) (200000,)\n",
      "Validation data shapes (50000, 90) (50000,)\n"
     ]
    }
   ],
   "source": [
    "x_tr, x_val, y_tr, y_val = split_data(X_sincos, y, 0.8)\n",
    "\n",
    "print(\"Training data shapes\", x_tr.shape, y_tr.shape)\n",
    "print(\"Validation data shapes\", x_val.shape, y_val.shape)"
   ]
  },
  {
   "cell_type": "code",
   "execution_count": 27,
   "metadata": {
    "pycharm": {
     "name": "#%%\n"
    }
   },
   "outputs": [
    {
     "name": "stdout",
     "output_type": "stream",
     "text": [
      "Training data shapes (200000, 91)\n",
      "Validation data shapes (50000, 91)\n"
     ]
    }
   ],
   "source": [
    "x_tr = add_bias_term(x_tr)\n",
    "x_val = add_bias_term(x_val)\n",
    "\n",
    "print(\"Training data shapes\", x_tr.shape)\n",
    "print(\"Validation data shapes\", x_val.shape)"
   ]
  },
  {
   "cell_type": "markdown",
   "metadata": {
    "pycharm": {
     "name": "#%% md\n"
    }
   },
   "source": [
    "## Train"
   ]
  },
  {
   "cell_type": "code",
   "execution_count": 29,
   "metadata": {
    "scrolled": true,
    "pycharm": {
     "name": "#%%\n"
    }
   },
   "outputs": [
    {
     "name": "stdout",
     "output_type": "stream",
     "text": [
      "Iteration 1/3000: loss=0.6931471805599453,gamma=0.25\n",
      "Iteration 201/3000: loss=0.48883762234541683,gamma=1\n",
      "Iteration 401/3000: loss=0.48271023840708926,gamma=0.25\n",
      "Iteration 601/3000: loss=0.48076621847946727,gamma=0.5\n",
      "Iteration 801/3000: loss=0.47985240889731867,gamma=0.25\n",
      "Iteration 1001/3000: loss=0.47933433300573103,gamma=0.5\n",
      "Iteration 1201/3000: loss=0.47900909433432187,gamma=0.25\n",
      "Iteration 1401/3000: loss=0.4787871964170693,gamma=0.25\n",
      "Iteration 1601/3000: loss=0.4786293189411,gamma=0.25\n",
      "Iteration 1801/3000: loss=0.47851365570372395,gamma=0.25\n",
      "Iteration 2001/3000: loss=0.47842608165954326,gamma=0.5\n",
      "Iteration 2201/3000: loss=0.4783591535323103,gamma=0.5\n",
      "Iteration 2401/3000: loss=0.47830695864440165,gamma=0.5\n",
      "Iteration 2601/3000: loss=0.47826530963629915,gamma=0.25\n",
      "Iteration 2801/3000: loss=0.4782315228809228,gamma=0.5\n"
     ]
    }
   ],
   "source": [
    "from implementations import *\n",
    "weights, loss = reg_logistic_regression(\n",
    "    y_tr, x_tr, 0, np.zeros(x_tr.shape[1]), max_iters=3000, gamma=0.2)"
   ]
  },
  {
   "cell_type": "code",
   "execution_count": 30,
   "metadata": {
    "pycharm": {
     "name": "#%%\n"
    }
   },
   "outputs": [
    {
     "name": "stdout",
     "output_type": "stream",
     "text": [
      "Training score 0.76901\n",
      "Validation score 0.76828\n"
     ]
    }
   ],
   "source": [
    "print(\"Training score\", compute_score(y_tr, x_tr, weights))\n",
    "print(\"Validation score\", compute_score(y_val, x_val, weights))"
   ]
  },
  {
   "cell_type": "code",
   "execution_count": 31,
   "outputs": [
    {
     "data": {
      "text/plain": "0.6311835487362323"
     },
     "execution_count": 31,
     "metadata": {},
     "output_type": "execute_result"
    }
   ],
   "source": [
    "f1_score(y_val, x_val, weights)"
   ],
   "metadata": {
    "collapsed": false,
    "pycharm": {
     "name": "#%%\n"
    }
   }
  },
  {
   "cell_type": "code",
   "execution_count": 10,
   "metadata": {
    "scrolled": true,
    "pycharm": {
     "name": "#%%\n"
    }
   },
   "outputs": [
    {
     "data": {
      "text/plain": "<Figure size 432x288 with 1 Axes>",
      "image/png": "[encoded data removed]"
     },
     "metadata": {
      "needs_background": "light"
     },
     "output_type": "display_data"
    }
   ],
   "source": [
    "plt.plot(np.arange(len(loss)), loss)\n",
    "plt.xlabel(\"Iterarion\")\n",
    "plt.ylabel(\"Loss\")\n",
    "plt.show()"
   ]
  },
  {
   "cell_type": "markdown",
   "metadata": {
    "pycharm": {
     "name": "#%% md\n"
    }
   },
   "source": [
    "## Testing"
   ]
  },
  {
   "cell_type": "code",
   "execution_count": 17,
   "metadata": {
    "pycharm": {
     "name": "#%%\n"
    }
   },
   "outputs": [
    {
     "name": "stdout",
     "output_type": "stream",
     "text": [
      "Input data shape (568238, 30)\n"
     ]
    }
   ],
   "source": [
    "_, XTest, idsTest = load_csv_data(path=\"data/test.csv\")\n",
    "XTest[XTest == -999] = 0\n",
    "print(\"Input data shape\", XTest.shape)\n",
    "# print(\"Labels data shape\", y.shape)"
   ]
  },
  {
   "cell_type": "code",
   "execution_count": 18,
   "metadata": {
    "pycharm": {
     "name": "#%%\n"
    }
   },
   "outputs": [
    {
     "data": {
      "text/plain": "(568238, 31)"
     },
     "execution_count": 18,
     "metadata": {},
     "output_type": "execute_result"
    }
   ],
   "source": [
    "XTest = add_bias_term(standardize(XTest)[0])\n",
    "XTest.shape"
   ]
  },
  {
   "cell_type": "code",
   "execution_count": 19,
   "metadata": {
    "pycharm": {
     "name": "#%%\n"
    }
   },
   "outputs": [],
   "source": [
    "yTest = np.array([predictions(x, weights) for x in XTest])"
   ]
  },
  {
   "cell_type": "code",
   "execution_count": 20,
   "metadata": {
    "pycharm": {
     "name": "#%%\n"
    }
   },
   "outputs": [
    {
     "name": "stdout",
     "output_type": "stream",
     "text": [
      "[-1 -1 -1 ...  1 -1 -1]\n"
     ]
    }
   ],
   "source": [
    "yTest[np.where(yTest == 0)] = -1\n",
    "print(yTest)"
   ]
  },
  {
   "cell_type": "code",
   "execution_count": 21,
   "metadata": {
    "pycharm": {
     "name": "#%%\n"
    }
   },
   "outputs": [],
   "source": [
    "create_csv_submission(idsTest, yTest, \"03.csv\")"
   ]
  },
  {
   "cell_type": "code",
   "execution_count": 22,
   "metadata": {
    "pycharm": {
     "name": "#%%\n"
    }
   },
   "outputs": [
    {
     "data": {
      "text/plain": "0.23897381026964054"
     },
     "execution_count": 22,
     "metadata": {},
     "output_type": "execute_result"
    }
   ],
   "source": [
    "(yTest==1).sum()/len(yTest)"
   ]
  },
  {
   "cell_type": "code",
   "execution_count": null,
   "outputs": [],
   "source": [],
   "metadata": {
    "collapsed": false,
    "pycharm": {
     "name": "#%%\n"
    }
   }
  }
 ],
 "metadata": {
  "kernelspec": {
   "name": "conda-env-myepfl-py",
   "language": "python",
   "display_name": "Python [conda env:myepfl] *"
  },
  "language_info": {
   "codemirror_mode": {
    "name": "ipython",
    "version": 3
   },
   "file_extension": ".py",
   "mimetype": "text/x-python",
   "name": "python",
   "nbconvert_exporter": "python",
   "pygments_lexer": "ipython3",
   "version": "3.10.6"
  },
  "vscode": {
   "interpreter": {
    "hash": "b890a3746d1f20c282dd4547165a8453d661bae2ef62b8d4c3ac4be0dc5d2dcc"
   }
  }
 },
 "nbformat": 4,
 "nbformat_minor": 2
}