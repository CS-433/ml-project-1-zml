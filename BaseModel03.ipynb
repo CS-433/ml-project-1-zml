{
 "cells": [
  {
   "cell_type": "markdown",
   "metadata": {
    "pycharm": {
     "name": "#%% md\n"
    }
   },
   "source": [
    "## Import libraries"
   ]
  },
  {
   "cell_type": "code",
   "execution_count": 1,
   "metadata": {
    "pycharm": {
     "name": "#%%\n"
    }
   },
   "outputs": [],
   "source": [
    "%matplotlib inline\n",
    "import numpy as np\n",
    "import matplotlib.pyplot as plt\n",
    "from helpers import *\n",
    "from utils import *\n",
    "from implementations import *\n",
    "%load_ext autoreload\n",
    "%autoreload 2"
   ]
  },
  {
   "cell_type": "markdown",
   "metadata": {
    "pycharm": {
     "name": "#%% md\n"
    }
   },
   "source": [
    "## Load the data"
   ]
  },
  {
   "cell_type": "code",
   "execution_count": 2,
   "metadata": {
    "pycharm": {
     "name": "#%%\n"
    }
   },
   "outputs": [
    {
     "name": "stdout",
     "output_type": "stream",
     "text": [
      "Input data shape (250000, 30)\n",
      "Labels data shape (250000,)\n"
     ]
    }
   ],
   "source": [
    "y, X, ids = load_csv_data(path=\"data/train.csv\")\n",
    "print(\"Input data shape\", X.shape)\n",
    "print(\"Labels data shape\", y.shape)"
   ]
  },
  {
   "cell_type": "code",
   "execution_count": 3,
   "metadata": {
    "pycharm": {
     "name": "#%%\n"
    }
   },
   "outputs": [
    {
     "data": {
      "text/plain": "array([1., 0., 0., ..., 1., 0., 0.])"
     },
     "execution_count": 3,
     "metadata": {},
     "output_type": "execute_result"
    }
   ],
   "source": [
    "y[np.where(y == -1)] = 0\n",
    "y"
   ]
  },
  {
   "cell_type": "code",
   "execution_count": 4,
   "outputs": [],
   "source": [
    "X[X == -999] = 0\n",
    "# X_sincos = np.c_[np.sin(X), np.cos(X)]"
   ],
   "metadata": {
    "collapsed": false,
    "pycharm": {
     "name": "#%%\n"
    }
   }
  },
  {
   "cell_type": "code",
   "execution_count": 5,
   "metadata": {
    "pycharm": {
     "name": "#%%\n"
    }
   },
   "outputs": [
    {
     "name": "stdout",
     "output_type": "stream",
     "text": [
      "Training data shapes (200000, 30) (200000,)\n",
      "Validation data shapes (50000, 30) (50000,)\n"
     ]
    }
   ],
   "source": [
    "x_tr, x_val, y_tr, y_val = split_data(X, y, 0.8)\n",
    "\n",
    "print(\"Training data shapes\", x_tr.shape, y_tr.shape)\n",
    "print(\"Validation data shapes\", x_val.shape, y_val.shape)"
   ]
  },
  {
   "cell_type": "code",
   "execution_count": 6,
   "metadata": {
    "pycharm": {
     "name": "#%%\n"
    }
   },
   "outputs": [
    {
     "name": "stdout",
     "output_type": "stream",
     "text": [
      "Training data shapes (200000, 31)\n",
      "Validation data shapes (50000, 31)\n"
     ]
    }
   ],
   "source": [
    "x_tr = add_bias_term(standardize(x_tr)[0])\n",
    "x_val = add_bias_term(standardize(x_val)[0])\n",
    "\n",
    "print(\"Training data shapes\", x_tr.shape)\n",
    "print(\"Validation data shapes\", x_val.shape)"
   ]
  },
  {
   "cell_type": "markdown",
   "metadata": {
    "pycharm": {
     "name": "#%% md\n"
    }
   },
   "source": [
    "## Train"
   ]
  },
  {
   "cell_type": "code",
   "execution_count": 8,
   "metadata": {
    "scrolled": true,
    "pycharm": {
     "name": "#%%\n"
    }
   },
   "outputs": [
    {
     "name": "stdout",
     "output_type": "stream",
     "text": [
      "Iteration 1/3000: loss=0.6931471805599453,gamma=0.2\n",
      "Iteration 201/3000: loss=0.53870913935921,gamma=0.2\n",
      "Iteration 401/3000: loss=0.5303734699241227,gamma=0.2\n",
      "Iteration 601/3000: loss=0.5276059026114104,gamma=0.2\n",
      "Iteration 801/3000: loss=0.5261822499239371,gamma=0.2\n",
      "Iteration 1001/3000: loss=0.5252849312901472,gamma=0.2\n",
      "Iteration 1201/3000: loss=0.5246586509964566,gamma=0.2\n",
      "Iteration 1401/3000: loss=0.5241956926601379,gamma=0.2\n",
      "Iteration 1601/3000: loss=0.5238409036836472,gamma=0.2\n",
      "Iteration 1801/3000: loss=0.5235621562728572,gamma=0.2\n",
      "Iteration 2001/3000: loss=0.5233389988255386,gamma=0.2\n",
      "Iteration 2201/3000: loss=0.5231575869310245,gamma=0.2\n",
      "Iteration 2401/3000: loss=0.5230081395394953,gamma=0.2\n",
      "Iteration 2601/3000: loss=0.5228835350401067,gamma=0.2\n",
      "Iteration 2801/3000: loss=0.5227784739121571,gamma=0.2\n"
     ]
    }
   ],
   "source": [
    "weights, loss = reg_logistic_regression(\n",
    "    y_tr, x_tr, 0, np.zeros(x_tr.shape[1]), max_iters=3000, gamma=0.2)"
   ]
  },
  {
   "cell_type": "code",
   "execution_count": 9,
   "metadata": {
    "pycharm": {
     "name": "#%%\n"
    }
   },
   "outputs": [
    {
     "name": "stdout",
     "output_type": "stream",
     "text": [
      "Training score 0.74297\n",
      "Validation score 0.74176\n"
     ]
    }
   ],
   "source": [
    "print(\"Training score\", compute_score(y_tr, x_tr, weights))\n",
    "print(\"Validation score\", compute_score(y_val, x_val, weights))"
   ]
  },
  {
   "cell_type": "code",
   "execution_count": 10,
   "outputs": [
    {
     "data": {
      "text/plain": "0.5533416355334164"
     },
     "execution_count": 10,
     "metadata": {},
     "output_type": "execute_result"
    }
   ],
   "source": [
    "f1_score(y_val, x_val, weights)"
   ],
   "metadata": {
    "collapsed": false,
    "pycharm": {
     "name": "#%%\n"
    }
   }
  },
  {
   "cell_type": "code",
   "execution_count": 11,
   "metadata": {
    "scrolled": true,
    "pycharm": {
     "name": "#%%\n"
    }
   },
   "outputs": [
    {
     "data": {
      "text/plain": "<Figure size 432x288 with 1 Axes>",
      "image/png": "[encoded data removed]"
     },
     "metadata": {
      "needs_background": "light"
     },
     "output_type": "display_data"
    }
   ],
   "source": [
    "plt.plot(np.arange(len(loss)), loss)\n",
    "plt.xlabel(\"Iterarion\")\n",
    "plt.ylabel(\"Loss\")\n",
    "plt.show()"
   ]
  },
  {
   "cell_type": "markdown",
   "metadata": {
    "pycharm": {
     "name": "#%% md\n"
    }
   },
   "source": [
    "## Testing"
   ]
  },
  {
   "cell_type": "code",
   "execution_count": null,
   "metadata": {
    "pycharm": {
     "name": "#%%\n"
    }
   },
   "outputs": [],
   "source": [
    "_, XTest, idsTest = load_csv_data(path=\"data/test.csv\")\n",
    "XTest[XTest == -999] = 0\n",
    "print(\"Input data shape\", XTest.shape)\n",
    "# print(\"Labels data shape\", y.shape)"
   ]
  },
  {
   "cell_type": "code",
   "execution_count": null,
   "metadata": {
    "pycharm": {
     "name": "#%%\n"
    }
   },
   "outputs": [],
   "source": [
    "XTest = add_bias_term(standardize(XTest)[0])\n",
    "XTest.shape"
   ]
  },
  {
   "cell_type": "code",
   "execution_count": null,
   "metadata": {
    "pycharm": {
     "name": "#%%\n"
    }
   },
   "outputs": [],
   "source": [
    "yTest = np.array([predictions(x, weights) for x in XTest])"
   ]
  },
  {
   "cell_type": "code",
   "execution_count": null,
   "metadata": {
    "pycharm": {
     "name": "#%%\n"
    }
   },
   "outputs": [],
   "source": [
    "yTest[np.where(yTest == 0)] = -1\n",
    "print(yTest)"
   ]
  },
  {
   "cell_type": "code",
   "execution_count": null,
   "metadata": {
    "pycharm": {
     "name": "#%%\n"
    }
   },
   "outputs": [],
   "source": [
    "create_csv_submission(idsTest, yTest, \"03.csv\")"
   ]
  },
  {
   "cell_type": "code",
   "execution_count": null,
   "metadata": {
    "pycharm": {
     "name": "#%%\n"
    }
   },
   "outputs": [],
   "source": [
    "(yTest==1).sum()/len(yTest)"
   ]
  },
  {
   "cell_type": "markdown",
   "source": [
    "# Balanced"
   ],
   "metadata": {
    "collapsed": false,
    "pycharm": {
     "name": "#%% md\n"
    }
   }
  },
  {
   "cell_type": "code",
   "execution_count": 12,
   "outputs": [
    {
     "name": "stdout",
     "output_type": "stream",
     "text": [
      "Iteration 1/3000: loss=0.312228480193874,gamma=0.2\n"
     ]
    },
    {
     "name": "stderr",
     "output_type": "stream",
     "text": [
      "/Users/alexzhu/PycharmProjects/ml-project-1-zml/utils.py:67: RuntimeWarning: divide by zero encountered in log\n",
      "  (beta * y * np.log(y_hat) + (1 - beta) * (1 - y) * np.log(1 - y_hat))) + 0.5 * lambda_ * np.linalg.norm(\n",
      "/Users/alexzhu/PycharmProjects/ml-project-1-zml/utils.py:67: RuntimeWarning: invalid value encountered in multiply\n",
      "  (beta * y * np.log(y_hat) + (1 - beta) * (1 - y) * np.log(1 - y_hat))) + 0.5 * lambda_ * np.linalg.norm(\n"
     ]
    },
    {
     "name": "stdout",
     "output_type": "stream",
     "text": [
      "Iteration 201/3000: loss=0.2738644153416008,gamma=1\n",
      "Iteration 401/3000: loss=0.2709587714299194,gamma=0.0625\n",
      "Iteration 601/3000: loss=0.2723924817607441,gamma=1\n",
      "Iteration 801/3000: loss=0.26690104943704895,gamma=0.0625\n",
      "Iteration 1001/3000: loss=0.2695687403594742,gamma=1\n",
      "Iteration 1201/3000: loss=0.26775833016418854,gamma=1\n",
      "Iteration 1401/3000: loss=0.26032112147511666,gamma=1\n",
      "Iteration 1601/3000: loss=0.2613784768871561,gamma=0.046875\n",
      "Iteration 1801/3000: loss=0.26001729308126326,gamma=1\n",
      "Iteration 2001/3000: loss=0.26963743481754526,gamma=0.0625\n",
      "Iteration 2201/3000: loss=0.26064952523667534,gamma=0.0625\n",
      "Iteration 2401/3000: loss=0.26110856451831493,gamma=1\n",
      "Iteration 2601/3000: loss=0.27468705045082714,gamma=1\n",
      "Iteration 2801/3000: loss=0.2690903117299935,gamma=1\n",
      "Validation score 0.7424\n"
     ]
    },
    {
     "data": {
      "text/plain": "0.5565349125464812"
     },
     "execution_count": 12,
     "metadata": {},
     "output_type": "execute_result"
    }
   ],
   "source": [
    "weights, loss = reg_logistic_regression(\n",
    "    y_tr, x_tr, 0, np.zeros(x_tr.shape[1]), max_iters=3000, gamma=0.2,balanced=True)\n",
    "print(\"Validation score\", compute_score(y_val, x_val, weights))\n",
    "f1_score(y_val, x_val, weights)"
   ],
   "metadata": {
    "collapsed": false,
    "pycharm": {
     "name": "#%%\n"
    }
   }
  },
  {
   "cell_type": "code",
   "execution_count": null,
   "outputs": [],
   "source": [],
   "metadata": {
    "collapsed": false,
    "pycharm": {
     "name": "#%%\n"
    }
   }
  }
 ],
 "metadata": {
  "kernelspec": {
   "name": "conda-env-myepfl-py",
   "language": "python",
   "display_name": "Python [conda env:myepfl] *"
  },
  "language_info": {
   "codemirror_mode": {
    "name": "ipython",
    "version": 3
   },
   "file_extension": ".py",
   "mimetype": "text/x-python",
   "name": "python",
   "nbconvert_exporter": "python",
   "pygments_lexer": "ipython3",
   "version": "3.10.6"
  },
  "vscode": {
   "interpreter": {
    "hash": "b890a3746d1f20c282dd4547165a8453d661bae2ef62b8d4c3ac4be0dc5d2dcc"
   }
  }
 },
 "nbformat": 4,
 "nbformat_minor": 2
}