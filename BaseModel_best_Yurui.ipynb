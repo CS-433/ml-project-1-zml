{
 "cells": [
  {
   "cell_type": "markdown",
   "metadata": {
    "pycharm": {
     "name": "#%% md\n"
    }
   },
   "source": [
    "## Import libraries"
   ]
  },
  {
   "cell_type": "code",
   "execution_count": 1,
   "metadata": {
    "pycharm": {
     "name": "#%%\n"
    }
   },
   "outputs": [],
   "source": [
    "%matplotlib inline\n",
    "import numpy as np\n",
    "import matplotlib.pyplot as plt\n",
    "from helpers import *\n",
    "from utils import *\n",
    "from implementations import *\n",
    "from preprocessing import *\n",
    "%load_ext autoreload\n",
    "%autoreload 2"
   ]
  },
  {
   "cell_type": "markdown",
   "metadata": {
    "pycharm": {
     "name": "#%% md\n"
    }
   },
   "source": [
    "## Load the data"
   ]
  },
  {
   "cell_type": "code",
   "execution_count": 2,
   "metadata": {
    "pycharm": {
     "name": "#%%\n"
    }
   },
   "outputs": [
    {
     "name": "stdout",
     "output_type": "stream",
     "text": [
      "Input data shape (250000, 30)\n",
      "Labels data shape (250000,)\n"
     ]
    }
   ],
   "source": [
    "y, X, ids = load_csv_data(path=\"data/train.csv\")\n",
    "print(\"Input data shape\", X.shape)\n",
    "print(\"Labels data shape\", y.shape)"
   ]
  },
  {
   "cell_type": "code",
   "execution_count": 3,
   "metadata": {
    "pycharm": {
     "name": "#%%\n"
    }
   },
   "outputs": [
    {
     "data": {
      "text/plain": "array([1., 0., 0., ..., 1., 0., 0.])"
     },
     "execution_count": 3,
     "metadata": {},
     "output_type": "execute_result"
    }
   ],
   "source": [
    "y[np.where(y == -1)] = 0\n",
    "y"
   ]
  },
  {
   "cell_type": "code",
   "execution_count": 4,
   "outputs": [
    {
     "data": {
      "text/plain": "array([[ 138.47 ,   51.655,   97.827, ...,    1.24 ,   -2.475,  113.497],\n       [ 160.937,   68.768,  103.235, ..., -999.   , -999.   ,   46.226],\n       [-999.   ,  162.172,  125.953, ..., -999.   , -999.   ,   44.251],\n       ...,\n       [ 105.457,   60.526,   75.839, ..., -999.   , -999.   ,   41.992],\n       [  94.951,   19.362,   68.812, ..., -999.   , -999.   ,    0.   ],\n       [-999.   ,   72.756,   70.831, ..., -999.   , -999.   ,    0.   ]])"
     },
     "execution_count": 4,
     "metadata": {},
     "output_type": "execute_result"
    }
   ],
   "source": [
    "X"
   ],
   "metadata": {
    "collapsed": false,
    "pycharm": {
     "name": "#%%\n"
    }
   }
  },
  {
   "cell_type": "code",
   "execution_count": 5,
   "outputs": [
    {
     "data": {
      "text/plain": "(250000, 26)"
     },
     "execution_count": 5,
     "metadata": {},
     "output_type": "execute_result"
    }
   ],
   "source": [
    "columns_remove = [14,15,17,18]\n",
    "X = np.delete(X, columns_remove, axis=1)\n",
    "X.shape"
   ],
   "metadata": {
    "collapsed": false,
    "pycharm": {
     "name": "#%%\n"
    }
   }
  },
  {
   "cell_type": "code",
   "execution_count": 6,
   "outputs": [
    {
     "data": {
      "text/plain": "array([[ 138.47      ,   51.655     ,   97.827     , ...,    1.24      ,\n          -2.475     ,  113.497     ],\n       [ 160.937     ,   68.768     ,  103.235     , ..., -999.        ,\n        -999.        ,   46.226     ],\n       [ -38.12677709,  162.172     ,  125.953     , ..., -999.        ,\n        -999.        ,   44.251     ],\n       ...,\n       [ 105.457     ,   60.526     ,   75.839     , ..., -999.        ,\n        -999.        ,   41.992     ],\n       [  94.951     ,   19.362     ,   68.812     , ..., -999.        ,\n        -999.        ,    0.        ],\n       [ -38.12677709,   72.756     ,   70.831     , ..., -999.        ,\n        -999.        ,    0.        ]])"
     },
     "execution_count": 6,
     "metadata": {},
     "output_type": "execute_result"
    }
   ],
   "source": [
    "# deal with DER_mass_MMC missing value\n",
    "# fill the missing with mean of background signal\n",
    "DER_mass_MMC = X[:,0]\n",
    "DER_mass_MMC_b_mean = np.mean(np.delete(DER_mass_MMC, np.where((DER_mass_MMC == -999) & (y == 1) )))\n",
    "X[:,0] = np.where(DER_mass_MMC == -999, DER_mass_MMC_b_mean, DER_mass_MMC)\n",
    "X"
   ],
   "metadata": {
    "collapsed": false,
    "pycharm": {
     "name": "#%%\n"
    }
   }
  },
  {
   "cell_type": "code",
   "execution_count": 7,
   "outputs": [
    {
     "data": {
      "text/plain": "array([[ 1.38470000e+02,  5.16550000e+01,  9.78270000e+01, ...,\n         1.24000000e+00, -2.47500000e+00,  1.13497000e+02],\n       [ 1.60937000e+02,  6.87680000e+01,  1.03235000e+02, ...,\n        -1.00000000e-02, -2.00000000e-03,  4.62260000e+01],\n       [-3.81267771e+01,  1.62172000e+02,  1.25953000e+02, ...,\n        -1.00000000e-02, -2.00000000e-03,  4.42510000e+01],\n       ...,\n       [ 1.05457000e+02,  6.05260000e+01,  7.58390000e+01, ...,\n        -1.00000000e-02, -2.00000000e-03,  4.19920000e+01],\n       [ 9.49510000e+01,  1.93620000e+01,  6.88120000e+01, ...,\n        -1.00000000e-02, -2.00000000e-03,  0.00000000e+00],\n       [-3.81267771e+01,  7.27560000e+01,  7.08310000e+01, ...,\n        -1.00000000e-02, -2.00000000e-03,  0.00000000e+00]])"
     },
     "execution_count": 7,
     "metadata": {},
     "output_type": "execute_result"
    }
   ],
   "source": [
    "X = np.where(X == -999,np.NaN,X)\n",
    "columns_to_drop, columns_to_fill, feature_medians = calculate_feature_medians(X)\n",
    "X = fill_features_with_median(X)\n",
    "X"
   ],
   "metadata": {
    "collapsed": false,
    "pycharm": {
     "name": "#%%\n"
    }
   }
  },
  {
   "cell_type": "code",
   "execution_count": 8,
   "outputs": [],
   "source": [
    "columns_angle = [16,21,24]"
   ],
   "metadata": {
    "collapsed": false,
    "pycharm": {
     "name": "#%%\n"
    }
   }
  },
  {
   "cell_type": "code",
   "execution_count": 9,
   "outputs": [
    {
     "data": {
      "text/plain": "(248568, 26)"
     },
     "execution_count": 9,
     "metadata": {},
     "output_type": "execute_result"
    }
   ],
   "source": [
    "X,y ,outliers= remove_outliers(X,y)\n",
    "X.shape"
   ],
   "metadata": {
    "collapsed": false,
    "pycharm": {
     "name": "#%%\n"
    }
   }
  },
  {
   "cell_type": "code",
   "execution_count": 11,
   "outputs": [
    {
     "data": {
      "text/plain": "(248568, 551)"
     },
     "execution_count": 11,
     "metadata": {},
     "output_type": "execute_result"
    }
   ],
   "source": [
    "X_angle = X[:,columns_angle]\n",
    "X_rest = np.delete(X, columns_angle, axis=1)\n",
    "X_poly = np.hstack((X_rest,np.sin(X_angle), np.cos(X_angle)))\n",
    "X_final = build_poly_feature(X_poly,degree=5)\n",
    "X_final,_,_=standardize(X_final)\n",
    "X_final.shape"
   ],
   "metadata": {
    "collapsed": false,
    "pycharm": {
     "name": "#%%\n"
    }
   }
  },
  {
   "cell_type": "code",
   "execution_count": 12,
   "outputs": [
    {
     "data": {
      "text/plain": "array([[ 0.54729814,  0.07448065,  0.44342679, ...,  1.74230828,\n        -1.10649753, -1.58048415],\n       [ 0.84345629,  0.57048453,  0.58407074, ...,  0.03818481,\n        -0.46920231,  0.02203605],\n       [-1.78058608,  3.27770982,  1.17488976, ...,  0.70078161,\n        -0.83354747, -1.19346534],\n       ...,\n       [ 0.11212349,  0.33159808, -0.12840739, ..., -1.35218725,\n        -1.43086659,  0.86603805],\n       [-0.02636574, -0.86150095, -0.3111561 , ...,  1.43653027,\n         1.09839009,  0.88508235],\n       [-1.78058608,  0.68607289, -0.25864868, ...,  0.22578121,\n         0.00876516,  0.88508235]])"
     },
     "execution_count": 12,
     "metadata": {},
     "output_type": "execute_result"
    }
   ],
   "source": [
    "X_final"
   ],
   "metadata": {
    "collapsed": false,
    "pycharm": {
     "name": "#%%\n"
    }
   }
  },
  {
   "cell_type": "code",
   "execution_count": 13,
   "outputs": [
    {
     "name": "stdout",
     "output_type": "stream",
     "text": [
      "Training data shapes (198854, 552) (198854,)\n",
      "Validation data shapes (49714, 552) (49714,)\n"
     ]
    }
   ],
   "source": [
    "x_tr, x_val, y_tr, y_val = split_data(add_bias_term(X_final), y, 0.8)\n",
    "\n",
    "print(\"Training data shapes\", x_tr.shape, y_tr.shape)\n",
    "print(\"Validation data shapes\", x_val.shape, y_val.shape)"
   ],
   "metadata": {
    "collapsed": false,
    "pycharm": {
     "name": "#%%\n"
    }
   }
  },
  {
   "cell_type": "markdown",
   "source": [
    "## Train"
   ],
   "metadata": {
    "collapsed": false,
    "pycharm": {
     "name": "#%% md\n"
    }
   }
  },
  {
   "cell_type": "code",
   "execution_count": 14,
   "outputs": [
    {
     "data": {
      "text/plain": "0.06972252741748963"
     },
     "execution_count": 14,
     "metadata": {},
     "output_type": "execute_result"
    }
   ],
   "source": [
    "from implementations import *\n",
    "weights, loss = ridge_regression(\n",
    "    y_tr, x_tr, 10e-5)\n",
    "loss"
   ],
   "metadata": {
    "collapsed": false,
    "pycharm": {
     "name": "#%%\n"
    }
   }
  },
  {
   "cell_type": "code",
   "execution_count": 15,
   "outputs": [
    {
     "data": {
      "text/plain": "0.8090508614360284"
     },
     "execution_count": 15,
     "metadata": {},
     "output_type": "execute_result"
    }
   ],
   "source": [
    "compute_score(y_tr, x_tr, weights,f='linear')"
   ],
   "metadata": {
    "collapsed": false,
    "pycharm": {
     "name": "#%%\n"
    }
   }
  },
  {
   "cell_type": "code",
   "execution_count": 16,
   "outputs": [
    {
     "data": {
      "text/plain": "0.8083034959971034"
     },
     "execution_count": 16,
     "metadata": {},
     "output_type": "execute_result"
    }
   ],
   "source": [
    "compute_score(y_val, x_val, weights,f='linear')"
   ],
   "metadata": {
    "collapsed": false,
    "pycharm": {
     "name": "#%%\n"
    }
   }
  },
  {
   "cell_type": "code",
   "execution_count": 17,
   "metadata": {
    "scrolled": true,
    "pycharm": {
     "name": "#%%\n"
    }
   },
   "outputs": [
    {
     "name": "stdout",
     "output_type": "stream",
     "text": [
      "Iteration 1/5000: loss=0.6931471805599453\n",
      "Iteration 201/5000: loss=0.44091210182841784\n",
      "Iteration 401/5000: loss=0.4294702191167116\n",
      "Iteration 601/5000: loss=0.4238938113473563\n",
      "Iteration 801/5000: loss=0.42040552426660877\n",
      "Iteration 1001/5000: loss=0.41792522907063706\n",
      "Iteration 1201/5000: loss=0.41599021402970576\n",
      "Iteration 1401/5000: loss=0.41436979033014026\n",
      "Iteration 1601/5000: loss=0.41300644492689853\n",
      "Iteration 1801/5000: loss=0.41180855368183433\n",
      "Iteration 2001/5000: loss=0.41074134744985014\n",
      "Iteration 2201/5000: loss=0.4097764781228711\n",
      "Iteration 2401/5000: loss=0.4089033449665712\n",
      "Iteration 2601/5000: loss=0.40811355004526145\n",
      "Iteration 2801/5000: loss=0.407405804545608\n",
      "Iteration 3001/5000: loss=0.40679458195802237\n",
      "Iteration 3201/5000: loss=0.4062751713032512\n",
      "Iteration 3401/5000: loss=0.40581382600648136\n",
      "Iteration 3601/5000: loss=0.4053993732031573\n",
      "Iteration 3801/5000: loss=0.405023821187766\n",
      "Iteration 4001/5000: loss=0.4046798563412289\n",
      "Iteration 4201/5000: loss=0.40435800843235675\n",
      "Iteration 4401/5000: loss=0.40405435993649413\n",
      "Iteration 4601/5000: loss=0.40376758220232567\n",
      "Iteration 4801/5000: loss=0.4034971980270902\n"
     ]
    }
   ],
   "source": [
    "from implementations import *\n",
    "weights, loss = reg_logistic_regression(\n",
    "    y_tr, x_tr, 0, np.zeros(x_tr.shape[1]), max_iters=5000, gamma=0.2)"
   ]
  },
  {
   "cell_type": "code",
   "execution_count": 18,
   "metadata": {
    "pycharm": {
     "name": "#%%\n"
    }
   },
   "outputs": [
    {
     "name": "stdout",
     "output_type": "stream",
     "text": [
      "Training score 0.820506502257938\n",
      "Validation score 0.8204932212254094\n"
     ]
    }
   ],
   "source": [
    "print(\"Training score\", compute_score(y_tr, x_tr, weights))\n",
    "print(\"Validation score\", compute_score(y_val, x_val, weights))"
   ]
  },
  {
   "cell_type": "code",
   "execution_count": 19,
   "outputs": [
    {
     "data": {
      "text/plain": "0.7232696601339619"
     },
     "execution_count": 19,
     "metadata": {},
     "output_type": "execute_result"
    }
   ],
   "source": [
    "f1_score(y_val, x_val, weights)"
   ],
   "metadata": {
    "collapsed": false,
    "pycharm": {
     "name": "#%%\n"
    }
   }
  },
  {
   "cell_type": "markdown",
   "metadata": {
    "pycharm": {
     "name": "#%% md\n"
    }
   },
   "source": [
    "## Testing"
   ]
  },
  {
   "cell_type": "code",
   "execution_count": 24,
   "metadata": {
    "pycharm": {
     "name": "#%%\n"
    }
   },
   "outputs": [
    {
     "name": "stdout",
     "output_type": "stream",
     "text": [
      "Input data shape (568238, 30)\n"
     ]
    }
   ],
   "source": [
    "_, XTest, idsTest = load_csv_data(path=\"data/test.csv\")\n",
    "\n",
    "print(\"Input data shape\", XTest.shape)\n",
    "# print(\"Labels data shape\", y.shape)"
   ]
  },
  {
   "cell_type": "code",
   "execution_count": 25,
   "outputs": [
    {
     "data": {
      "text/plain": "array([[-3.81267771e+01,  7.95890000e+01,  2.39160000e+01, ...,\n        -1.00000000e-02, -2.00000000e-03,  0.00000000e+00],\n       [ 1.06398000e+02,  6.74900000e+01,  8.79490000e+01, ...,\n        -1.00000000e-02, -2.00000000e-03,  4.75750000e+01],\n       [ 1.17794000e+02,  5.62260000e+01,  9.63580000e+01, ...,\n        -1.00000000e-02, -2.00000000e-03,  0.00000000e+00],\n       ...,\n       [ 1.08497000e+02,  9.83700000e+00,  6.51490000e+01, ...,\n        -1.00000000e-02, -2.00000000e-03,  0.00000000e+00],\n       [ 9.67110000e+01,  2.00060000e+01,  6.69420000e+01, ...,\n        -1.00000000e-02, -2.00000000e-03,  3.08630000e+01],\n       [ 9.23730000e+01,  8.01090000e+01,  7.76190000e+01, ...,\n        -1.00000000e-02, -2.00000000e-03,  0.00000000e+00]])"
     },
     "execution_count": 25,
     "metadata": {},
     "output_type": "execute_result"
    }
   ],
   "source": [
    "XTest = np.delete(XTest, columns_remove, axis=1)\n",
    "XTest[:,0] = np.where(XTest[:,0] == -999, DER_mass_MMC_b_mean, XTest[:,0])\n",
    "XTest = np.where(XTest == -999,np.NaN,XTest)\n",
    "XTest=fill_features_with_median(XTest,columns_to_fill,feature_medians)\n",
    "XTest"
   ],
   "metadata": {
    "collapsed": false,
    "pycharm": {
     "name": "#%%\n"
    }
   }
  },
  {
   "cell_type": "code",
   "execution_count": 26,
   "outputs": [
    {
     "data": {
      "text/plain": "(568238, 551)"
     },
     "execution_count": 26,
     "metadata": {},
     "output_type": "execute_result"
    }
   ],
   "source": [
    "XTest_angle = XTest[:, columns_angle]\n",
    "XTest_rest = np.delete(XTest, columns_angle, axis=1)\n",
    "XTest_poly = np.hstack((XTest_rest,np.sin(XTest_angle), np.cos(XTest_angle)))\n",
    "Xtest_final = build_poly_feature(XTest_poly,degree=5)\n",
    "Xtest_final,_,_=standardize(Xtest_final)\n",
    "Xtest_final.shape"
   ],
   "metadata": {
    "collapsed": false,
    "pycharm": {
     "name": "#%%\n"
    }
   }
  },
  {
   "cell_type": "code",
   "execution_count": 27,
   "metadata": {
    "pycharm": {
     "name": "#%%\n"
    }
   },
   "outputs": [
    {
     "data": {
      "text/plain": "(568238, 552)"
     },
     "execution_count": 27,
     "metadata": {},
     "output_type": "execute_result"
    }
   ],
   "source": [
    "Xtest_final = add_bias_term(Xtest_final)\n",
    "Xtest_final.shape"
   ]
  },
  {
   "cell_type": "code",
   "execution_count": 28,
   "metadata": {
    "pycharm": {
     "name": "#%%\n"
    }
   },
   "outputs": [],
   "source": [
    "yTest = np.array([linear(x, weights) for x in Xtest_final])"
   ]
  },
  {
   "cell_type": "code",
   "execution_count": 29,
   "outputs": [
    {
     "data": {
      "text/plain": "array([0, 0, 0, ..., 1, 0, 0])"
     },
     "execution_count": 29,
     "metadata": {},
     "output_type": "execute_result"
    }
   ],
   "source": [
    "yTest"
   ],
   "metadata": {
    "collapsed": false,
    "pycharm": {
     "name": "#%%\n"
    }
   }
  },
  {
   "cell_type": "code",
   "execution_count": 30,
   "metadata": {
    "pycharm": {
     "name": "#%%\n"
    }
   },
   "outputs": [
    {
     "name": "stdout",
     "output_type": "stream",
     "text": [
      "[-1 -1 -1 ...  1 -1 -1]\n"
     ]
    }
   ],
   "source": [
    "yTest[np.where(yTest == 0)] = -1\n",
    "print(yTest)"
   ]
  },
  {
   "cell_type": "code",
   "execution_count": 31,
   "metadata": {
    "pycharm": {
     "name": "#%%\n"
    }
   },
   "outputs": [],
   "source": [
    "create_csv_submission(idsTest, yTest, \"1029.csv\")"
   ]
  },
  {
   "cell_type": "code",
   "execution_count": 32,
   "outputs": [
    {
     "data": {
      "text/plain": "0.2501927009457305"
     },
     "execution_count": 32,
     "metadata": {},
     "output_type": "execute_result"
    }
   ],
   "source": [
    "(yTest==1).sum()/len(yTest)"
   ],
   "metadata": {
    "collapsed": false,
    "pycharm": {
     "name": "#%%\n"
    }
   }
  },
  {
   "cell_type": "code",
   "execution_count": null,
   "outputs": [],
   "source": [],
   "metadata": {
    "collapsed": false,
    "pycharm": {
     "name": "#%%\n"
    }
   }
  }
 ],
 "metadata": {
  "kernelspec": {
   "name": "conda-env-myepfl-py",
   "language": "python",
   "display_name": "Python [conda env:myepfl] *"
  },
  "language_info": {
   "codemirror_mode": {
    "name": "ipython",
    "version": 3
   },
   "file_extension": ".py",
   "mimetype": "text/x-python",
   "name": "python",
   "nbconvert_exporter": "python",
   "pygments_lexer": "ipython3",
   "version": "3.10.6"
  },
  "vscode": {
   "interpreter": {
    "hash": "b890a3746d1f20c282dd4547165a8453d661bae2ef62b8d4c3ac4be0dc5d2dcc"
   }
  }
 },
 "nbformat": 4,
 "nbformat_minor": 2
}