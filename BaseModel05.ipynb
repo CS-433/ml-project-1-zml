{
 "cells": [
  {
   "cell_type": "markdown",
   "metadata": {},
   "source": [
    "## Import libraries"
   ]
  },
  {
   "cell_type": "code",
   "execution_count": 1,
   "metadata": {
    "pycharm": {
     "name": "#%%\n"
    }
   },
   "outputs": [],
   "source": [
    "%matplotlib inline\n",
    "import numpy as np\n",
    "import matplotlib.pyplot as plt\n",
    "from helpers import *\n",
    "from utils import *\n",
    "from implementations import *\n",
    "from feature_filling import *\n",
    "%load_ext autoreload\n",
    "%autoreload 2"
   ]
  },
  {
   "cell_type": "markdown",
   "metadata": {
    "pycharm": {
     "name": "#%% md\n"
    }
   },
   "source": [
    "## Load the data"
   ]
  },
  {
   "cell_type": "code",
   "execution_count": 2,
   "metadata": {
    "pycharm": {
     "name": "#%%\n"
    }
   },
   "outputs": [
    {
     "name": "stdout",
     "output_type": "stream",
     "text": [
      "Input data shape (250000, 30)\n",
      "Labels data shape (250000,)\n"
     ]
    }
   ],
   "source": [
    "y, X, ids = load_csv_data(path=\"resources/train.csv\")\n",
    "\n",
    "print(\"Input data shape\", X.shape)\n",
    "print(\"Labels data shape\", y.shape)"
   ]
  },
  {
   "cell_type": "code",
   "execution_count": 21,
   "metadata": {},
   "outputs": [
    {
     "data": {
      "text/plain": [
       "array([0., 1., 2., 3.])"
      ]
     },
     "execution_count": 21,
     "metadata": {},
     "output_type": "execute_result"
    }
   ],
   "source": [
    "np.unique(X[:, 22])"
   ]
  },
  {
   "cell_type": "code",
   "execution_count": 19,
   "metadata": {},
   "outputs": [
    {
     "data": {
      "text/plain": [
       "(22164, 30)"
      ]
     },
     "execution_count": 19,
     "metadata": {},
     "output_type": "execute_result"
    }
   ],
   "source": [
    "X[np.where((X[:, 22] == 3))[0]].shape"
   ]
  },
  {
   "cell_type": "code",
   "execution_count": 3,
   "metadata": {},
   "outputs": [
    {
     "data": {
      "text/plain": [
       "array([2., 1., 1., ..., 1., 0., 0.])"
      ]
     },
     "execution_count": 3,
     "metadata": {},
     "output_type": "execute_result"
    }
   ],
   "source": [
    "# PRI_jet_num column\n",
    "X[:, 22]"
   ]
  },
  {
   "cell_type": "code",
   "execution_count": 4,
   "metadata": {},
   "outputs": [
    {
     "data": {
      "text/plain": [
       "array([0, 1, 1, ..., 1, 0, 0])"
      ]
     },
     "execution_count": 4,
     "metadata": {},
     "output_type": "execute_result"
    }
   ],
   "source": [
    "(X[:, 22] == 1) * 1"
   ]
  },
  {
   "cell_type": "code",
   "execution_count": 5,
   "metadata": {},
   "outputs": [
    {
     "data": {
      "text/plain": [
       "(250000, 34)"
      ]
     },
     "execution_count": 5,
     "metadata": {},
     "output_type": "execute_result"
    }
   ],
   "source": [
    "for cat in range(4):\n",
    "    cat_i = (X[:, 22] == cat) * 1\n",
    "    cat_i = cat_i.reshape(-1, 1)\n",
    "    \n",
    "    X = np.concatenate((X, cat_i), axis=1)\n",
    "\n",
    "X.shape"
   ]
  },
  {
   "cell_type": "code",
   "execution_count": 6,
   "metadata": {},
   "outputs": [
    {
     "data": {
      "text/plain": [
       "(250000, 33)"
      ]
     },
     "execution_count": 6,
     "metadata": {},
     "output_type": "execute_result"
    }
   ],
   "source": [
    "X = np.delete(X, 22, axis=1)\n",
    "X.shape"
   ]
  },
  {
   "cell_type": "code",
   "execution_count": 7,
   "metadata": {
    "pycharm": {
     "name": "#%%\n"
    }
   },
   "outputs": [
    {
     "data": {
      "text/plain": [
       "array([1., 0., 0., ..., 1., 0., 0.])"
      ]
     },
     "execution_count": 7,
     "metadata": {},
     "output_type": "execute_result"
    }
   ],
   "source": [
    "X[X == -999] = np.NaN\n",
    "y[np.where(y == -1)] = 0\n",
    "y"
   ]
  },
  {
   "cell_type": "code",
   "execution_count": 8,
   "metadata": {},
   "outputs": [],
   "source": [
    "# X = np.concatenate(((np.isnan(X[:, 0]) * 1).reshape(-1, 1), X), axis=1)"
   ]
  },
  {
   "cell_type": "code",
   "execution_count": 9,
   "metadata": {
    "pycharm": {
     "name": "#%%\n"
    },
    "scrolled": true
   },
   "outputs": [
    {
     "name": "stdout",
     "output_type": "stream",
     "text": [
      "Training data shapes (200000, 33) (200000,)\n",
      "Validation data shapes (50000, 33) (50000,)\n"
     ]
    }
   ],
   "source": [
    "x_tr, x_val, y_tr, y_val = split_data(X, y, 0.8)\n",
    "\n",
    "print(\"Training data shapes\", x_tr.shape, y_tr.shape)\n",
    "print(\"Validation data shapes\", x_val.shape, y_val.shape)"
   ]
  },
  {
   "cell_type": "markdown",
   "metadata": {},
   "source": [
    "## Fill the data"
   ]
  },
  {
   "cell_type": "code",
   "execution_count": 10,
   "metadata": {},
   "outputs": [
    {
     "name": "stdout",
     "output_type": "stream",
     "text": [
      "[ 0  4  5  6 12 22 23 24 25 26 27]\n",
      "[ 1.12394e+02  2.10400e+00  2.25857e+02 -2.47000e-01  4.54000e-01\n",
      "  6.57470e+01  0.00000e+00 -3.10000e-02  4.79480e+01 -3.00000e-03\n",
      " -4.00000e-03]\n"
     ]
    }
   ],
   "source": [
    "columns_with_missing_features, feature_medians = calculate_feature_medians(x_tr)\n",
    "\n",
    "print(columns_with_missing_features)\n",
    "print(feature_medians)"
   ]
  },
  {
   "cell_type": "code",
   "execution_count": 11,
   "metadata": {},
   "outputs": [
    {
     "data": {
      "text/plain": [
       "array([[152.079,  79.918, 137.139, ...,   1.   ,   0.   ,   0.   ],\n",
       "       [174.499,  71.208,  85.312, ...,   1.   ,   0.   ,   0.   ],\n",
       "       [112.394,  93.859,  70.055, ...,   0.   ,   0.   ,   0.   ],\n",
       "       ...,\n",
       "       [ 87.743,  32.397,  58.657, ...,   1.   ,   0.   ,   0.   ],\n",
       "       [112.394,  68.673, 118.908, ...,   1.   ,   0.   ,   0.   ],\n",
       "       [180.236, 110.947, 122.994, ...,   0.   ,   0.   ,   0.   ]])"
      ]
     },
     "execution_count": 11,
     "metadata": {},
     "output_type": "execute_result"
    }
   ],
   "source": [
    "x_tr = fill_features_with_median(x_tr, columns_with_missing_features, feature_medians)\n",
    "x_tr"
   ]
  },
  {
   "cell_type": "code",
   "execution_count": 12,
   "metadata": {
    "scrolled": true
   },
   "outputs": [
    {
     "data": {
      "text/plain": [
       "0"
      ]
     },
     "execution_count": 12,
     "metadata": {},
     "output_type": "execute_result"
    }
   ],
   "source": [
    "np.isnan(x_tr).sum()"
   ]
  },
  {
   "cell_type": "code",
   "execution_count": 13,
   "metadata": {},
   "outputs": [
    {
     "data": {
      "text/plain": [
       "array([[ 79.033,  39.006,  63.277, ...,   0.   ,   0.   ,   0.   ],\n",
       "       [ 98.921,  76.163,  65.04 , ...,   0.   ,   0.   ,   0.   ],\n",
       "       [112.394, 124.646,  93.267, ...,   1.   ,   0.   ,   0.   ],\n",
       "       ...,\n",
       "       [137.259,   0.32 ,  80.335, ...,   0.   ,   0.   ,   0.   ],\n",
       "       [ 96.441,  28.692,  53.366, ...,   1.   ,   0.   ,   0.   ],\n",
       "       [112.394,  79.264,  63.076, ...,   0.   ,   0.   ,   0.   ]])"
      ]
     },
     "execution_count": 13,
     "metadata": {},
     "output_type": "execute_result"
    }
   ],
   "source": [
    "x_val = fill_features_with_median(x_val, columns_with_missing_features, feature_medians)\n",
    "x_val"
   ]
  },
  {
   "cell_type": "code",
   "execution_count": 14,
   "metadata": {},
   "outputs": [
    {
     "data": {
      "text/plain": [
       "0"
      ]
     },
     "execution_count": 14,
     "metadata": {},
     "output_type": "execute_result"
    }
   ],
   "source": [
    "np.isnan(x_val).sum()"
   ]
  },
  {
   "cell_type": "code",
   "execution_count": 15,
   "metadata": {
    "pycharm": {
     "name": "#%%\n"
    }
   },
   "outputs": [
    {
     "name": "stdout",
     "output_type": "stream",
     "text": [
      "Training data shapes (200000, 34)\n",
      "Validation data shapes (50000, 34)\n"
     ]
    }
   ],
   "source": [
    "x_tr = np.concatenate((add_bias_term(standardize(x_tr[:, :-4])[0]), x_tr[:, -4:]), axis=1)\n",
    "x_val = np.concatenate((add_bias_term(standardize(x_val[:, :-4])[0]), x_val[:, -4:]), axis=1)\n",
    "\n",
    "print(\"Training data shapes\", x_tr.shape)\n",
    "print(\"Validation data shapes\", x_val.shape)"
   ]
  },
  {
   "cell_type": "markdown",
   "metadata": {},
   "source": [
    "## Train"
   ]
  },
  {
   "cell_type": "code",
   "execution_count": 31,
   "metadata": {
    "scrolled": true
   },
   "outputs": [
    {
     "name": "stdout",
     "output_type": "stream",
     "text": [
      "Iteration 1/10000: loss=0.6931471805599453, w=[-0.03923125 -0.03108567 -0.01826527 -0.01657993  0.0103589   0.01884357\n",
      " -0.03456007  0.01925418  0.01852169  0.01084898 -0.026275    0.01870039\n",
      "  0.02002675  0.01939515  0.0096176   0.01954404  0.0195332  -0.00168734\n",
      "  0.01955141  0.01953791  0.00224037  0.01956813 -0.04948181 -0.0069401\n",
      "  0.01954374  0.01955358 -0.0020947   0.01954929  0.01954176  0.00488317\n",
      " -0.02432625 -0.01117562  0.00059937 -0.00432875]\n",
      "Iteration 201/10000: loss=0.5578397681227706, w=[-0.2212676   0.14410751 -1.41963067 -0.10341939  0.37291807  0.11324345\n",
      "  0.17333326  0.09837627  0.12790315 -0.03739987  0.14426807  0.07663589\n",
      "  0.15447676  0.11445073  0.75585868  0.10836097  0.10608984 -0.11262206\n",
      "  0.1082674   0.11315512 -0.1322191   0.1113719  -0.06171669 -0.0944522\n",
      "  0.10938146  0.11032071 -0.13096375  0.11149351  0.10920536 -0.27850621\n",
      " -0.19537654 -0.03852591  0.24347856 -0.23084371]\n",
      "Iteration 401/10000: loss=0.5577484614011328, w=[-0.22167567  0.15505381 -1.45348517 -0.13513887  0.35096927  0.1140884\n",
      "  0.17431719  0.09783631  0.13433518 -0.03112669  0.17370641  0.07396528\n",
      "  0.16197709  0.11579882  0.79376339  0.10807516  0.10527997 -0.09614995\n",
      "  0.10788964  0.11408209 -0.10346059  0.11153456 -0.06469048 -0.10761054\n",
      "  0.10935342  0.11057938 -0.13101998  0.11202481  0.10914452 -0.30303806\n",
      " -0.19221211 -0.03765553  0.24342559 -0.23523363]\n"
     ]
    }
   ],
   "source": [
    "weights, loss = reg_logistic_regression(\n",
    "    y_tr, x_tr, 0.01, np.zeros(x_tr.shape[1]), max_iters=10000, gamma=0.2)"
   ]
  },
  {
   "cell_type": "code",
   "execution_count": 32,
   "metadata": {},
   "outputs": [
    {
     "name": "stdout",
     "output_type": "stream",
     "text": [
      "Training score 0.715655\n",
      "Validation score 0.71822\n"
     ]
    }
   ],
   "source": [
    "print(\"Training score\", compute_score(y_tr, x_tr, weights))\n",
    "print(\"Validation score\", compute_score(y_val, x_val, weights))"
   ]
  },
  {
   "cell_type": "code",
   "execution_count": 33,
   "metadata": {
    "scrolled": false
   },
   "outputs": [
    {
     "data": {
      "image/png": "[encoded data removed]",
      "text/plain": [
       "<Figure size 640x480 with 1 Axes>"
      ]
     },
     "metadata": {},
     "output_type": "display_data"
    }
   ],
   "source": [
    "plt.plot(np.arange(len(loss)), loss)\n",
    "plt.xlabel(\"Iterarion\")\n",
    "plt.ylabel(\"Loss\")\n",
    "plt.show()"
   ]
  },
  {
   "cell_type": "markdown",
   "metadata": {},
   "source": [
    "## Testing"
   ]
  },
  {
   "cell_type": "code",
   "execution_count": 19,
   "metadata": {},
   "outputs": [
    {
     "name": "stdout",
     "output_type": "stream",
     "text": [
      "Input data shape (568238, 30)\n"
     ]
    }
   ],
   "source": [
    "_, X_test, ids_test = load_csv_data(path=\"resources/test.csv\")\n",
    "\n",
    "print(\"Input data shape\", X_test.shape)"
   ]
  },
  {
   "cell_type": "code",
   "execution_count": 20,
   "metadata": {},
   "outputs": [
    {
     "data": {
      "text/plain": [
       "(568238, 34)"
      ]
     },
     "execution_count": 20,
     "metadata": {},
     "output_type": "execute_result"
    }
   ],
   "source": [
    "for cat in range(4):\n",
    "    cat_i = (X_test[:, 22] == cat) * 1\n",
    "    cat_i = cat_i.reshape(-1, 1)\n",
    "    \n",
    "    X_test = np.concatenate((X_test, cat_i), axis=1)\n",
    "\n",
    "X_test.shape"
   ]
  },
  {
   "cell_type": "code",
   "execution_count": 21,
   "metadata": {},
   "outputs": [
    {
     "data": {
      "text/plain": [
       "(568238, 33)"
      ]
     },
     "execution_count": 21,
     "metadata": {},
     "output_type": "execute_result"
    }
   ],
   "source": [
    "X_test = np.delete(X_test, 22, axis=1)\n",
    "X_test.shape"
   ]
  },
  {
   "cell_type": "code",
   "execution_count": 22,
   "metadata": {},
   "outputs": [],
   "source": [
    "X_test[X_test == -999] = np.NaN\n",
    "# X_test = np.concatenate(((np.isnan(X_test[:, 0]) * 1).reshape(-1, 1), X), axis=1)"
   ]
  },
  {
   "cell_type": "code",
   "execution_count": 23,
   "metadata": {},
   "outputs": [
    {
     "data": {
      "text/plain": [
       "0"
      ]
     },
     "execution_count": 23,
     "metadata": {},
     "output_type": "execute_result"
    }
   ],
   "source": [
    "X_test = fill_features_with_median(X_test, columns_with_missing_features, feature_medians)\n",
    "np.isnan(X_test).sum()"
   ]
  },
  {
   "cell_type": "code",
   "execution_count": 25,
   "metadata": {},
   "outputs": [
    {
     "data": {
      "text/plain": [
       "(568238, 34)"
      ]
     },
     "execution_count": 25,
     "metadata": {},
     "output_type": "execute_result"
    }
   ],
   "source": [
    "X_test = np.concatenate((add_bias_term(standardize(X_test[:, :-4])[0]), X_test[:, -4:]), axis=1)\n",
    "X_test.shape"
   ]
  },
  {
   "cell_type": "code",
   "execution_count": 26,
   "metadata": {},
   "outputs": [],
   "source": [
    "y_test = np.array([predictions(x, weights) for x in X_test])"
   ]
  },
  {
   "cell_type": "code",
   "execution_count": 27,
   "metadata": {},
   "outputs": [
    {
     "name": "stdout",
     "output_type": "stream",
     "text": [
      "[-1 -1 -1 ...  1 -1 -1]\n"
     ]
    }
   ],
   "source": [
    "y_test[np.where(y_test == 0)] = -1\n",
    "print(y_test)"
   ]
  },
  {
   "cell_type": "code",
   "execution_count": 28,
   "metadata": {},
   "outputs": [
    {
     "data": {
      "text/plain": [
       "0.24427792579869703"
      ]
     },
     "execution_count": 28,
     "metadata": {},
     "output_type": "execute_result"
    }
   ],
   "source": [
    "(y_test==1).sum() / len(y_test)"
   ]
  },
  {
   "cell_type": "code",
   "execution_count": 29,
   "metadata": {},
   "outputs": [],
   "source": [
    "create_csv_submission(ids_test, y_test, \"05.csv\")"
   ]
  },
  {
   "cell_type": "code",
   "execution_count": null,
   "metadata": {},
   "outputs": [],
   "source": []
  }
 ],
 "metadata": {
  "kernelspec": {
   "display_name": "Python 3 (ipykernel)",
   "language": "python",
   "name": "python3"
  },
  "language_info": {
   "codemirror_mode": {
    "name": "ipython",
    "version": 3
   },
   "file_extension": ".py",
   "mimetype": "text/x-python",
   "name": "python",
   "nbconvert_exporter": "python",
   "pygments_lexer": "ipython3",
   "version": "3.7.12"
  },
  "vscode": {
   "interpreter": {
    "hash": "916dbcbb3f70747c44a77c7bcd40155683ae19c65e1c03b4aa3499c5328201f1"
   }
  }
 },
 "nbformat": 4,
 "nbformat_minor": 2
}
